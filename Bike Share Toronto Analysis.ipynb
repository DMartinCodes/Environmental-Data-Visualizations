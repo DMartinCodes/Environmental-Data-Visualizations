{
 "cells": [
  {
   "cell_type": "markdown",
   "metadata": {},
   "source": [
    "# Bike Share Toronto Usage Analysis"
   ]
  },
  {
   "cell_type": "markdown",
   "metadata": {},
   "source": [
    "## Introduction\n",
    "\n",
    "*This analysis requires the user to download a CSV file that contains the relevant Q3 usage data of Bike Share Toronto. To access that file, please go to the [GitHub Repository](https://github.com/DennisMOTU/CSCI2000U-Assignment-1).*\n",
    "\n",
    "   Bike Share Toronto is a for-profit organization that offers a bike sharing service in the cities of Toronto and Scarborough. The bike sharing system is composed of three main features: the bike station, which stores bikes until a user takes one, the bikes themselves, and the online app. At present, the system has **7175** bicycles docked in **630** stations across Toronto and part of Scarborough [1].\n",
    "   \n",
    "   Bikes can be ridden for up to 45 minutes prior to incurring a small overage fee, and in order to rent bikes users must purchase a membership, which falls into two categories; **Annual**, where a 115 dollar fee is paid for unlimited trips for a year, and **Casual** , which encompasses 72 or 24 hour passes, priced at 15 and 7 dollars respectively [2]. Once a user begins to ride, they can dock the bike at any other station to complete their trip.\n",
    "   \n",
    "   Over the course of 2018, data concerning the use of Bike Share was recorded by the Toronto Parking Authority. Each data point, or \"trip\", recorded information about the start and end point of the trip, the duration, and the membership that was used to take the bike from a dock. The data used in this analysis was taken from the service City of Toronto's open data service, found [here](https://open.toronto.ca/dataset/bike-share-toronto-ridership-data/) [3]. \n",
    "   \n",
    "   Due to the convenient and inexpensive nature of Bike Share for getting people around the city in short trips, I wanted to investigate the nature of how people used the service. How long do people generally ride the bikes? Is usership higher in certain areas relative to others? How does the urban density of an area impact the use of the Bike Share system? Are there certain relationships between the membership people have and their use of the system? These are all questions which this analysis will seek to answer."
   ]
  },
  {
   "cell_type": "markdown",
   "metadata": {},
   "source": [
    "## Analyses"
   ]
  },
  {
   "cell_type": "markdown",
   "metadata": {},
   "source": [
    "##### Importing CSV data, and the first look\n",
    "    \n",
    "To begin, the csv file \"Bike Share Toronto Ridership_Q3 2018\" is imported into the dataframe \"bikes\". An inital overview of the dataframe shows that it contains data relating to 822536 unique trips made on the Bike Share system in the third quarter of 2018. Initially, data for each trip encompasses an ID for the trip, it's duration in seconds, the ID of the station the bike was undocked from, the start time of the trip, the name of the departure station, and similar information concerning the destination, as well as the type of user that took the trip.\n",
    "    "
   ]
  },
  {
   "cell_type": "code",
   "execution_count": 1,
   "metadata": {},
   "outputs": [
    {
     "data": {
      "text/html": [
       "<div>\n",
       "<style scoped>\n",
       "    .dataframe tbody tr th:only-of-type {\n",
       "        vertical-align: middle;\n",
       "    }\n",
       "\n",
       "    .dataframe tbody tr th {\n",
       "        vertical-align: top;\n",
       "    }\n",
       "\n",
       "    .dataframe thead th {\n",
       "        text-align: right;\n",
       "    }\n",
       "</style>\n",
       "<table border=\"1\" class=\"dataframe\">\n",
       "  <thead>\n",
       "    <tr style=\"text-align: right;\">\n",
       "      <th></th>\n",
       "      <th>trip_id</th>\n",
       "      <th>trip_duration_seconds</th>\n",
       "      <th>from_station_id</th>\n",
       "      <th>trip_start_time</th>\n",
       "      <th>from_station_name</th>\n",
       "      <th>trip_stop_time</th>\n",
       "      <th>to_station_id</th>\n",
       "      <th>to_station_name</th>\n",
       "      <th>user_type</th>\n",
       "    </tr>\n",
       "  </thead>\n",
       "  <tbody>\n",
       "    <tr>\n",
       "      <th>0</th>\n",
       "      <td>3244396</td>\n",
       "      <td>528</td>\n",
       "      <td>7254</td>\n",
       "      <td>7/1/2018 0:00</td>\n",
       "      <td>Borden St / Bloor St W - SMART</td>\n",
       "      <td>7/1/2018 0:08</td>\n",
       "      <td>7140</td>\n",
       "      <td>Macpherson Ave / Spadina Rd</td>\n",
       "      <td>Annual Member</td>\n",
       "    </tr>\n",
       "    <tr>\n",
       "      <th>1</th>\n",
       "      <td>3244398</td>\n",
       "      <td>570</td>\n",
       "      <td>7031</td>\n",
       "      <td>7/1/2018 0:00</td>\n",
       "      <td>Jarvis St / Isabella St</td>\n",
       "      <td>7/1/2018 0:09</td>\n",
       "      <td>7167</td>\n",
       "      <td>Queen St E / George St (Moss Park)</td>\n",
       "      <td>Annual Member</td>\n",
       "    </tr>\n",
       "    <tr>\n",
       "      <th>2</th>\n",
       "      <td>3244397</td>\n",
       "      <td>368</td>\n",
       "      <td>7286</td>\n",
       "      <td>7/1/2018 0:00</td>\n",
       "      <td>Gerrard St E / Broadview - SMART</td>\n",
       "      <td>7/1/2018 0:06</td>\n",
       "      <td>7286</td>\n",
       "      <td>Gerrard St E / Broadview - SMART</td>\n",
       "      <td>Casual Member</td>\n",
       "    </tr>\n",
       "    <tr>\n",
       "      <th>3</th>\n",
       "      <td>3244399</td>\n",
       "      <td>1147</td>\n",
       "      <td>7248</td>\n",
       "      <td>7/1/2018 0:00</td>\n",
       "      <td>Baldwin Ave / Spadina Ave - SMART</td>\n",
       "      <td>7/1/2018 0:19</td>\n",
       "      <td>7020</td>\n",
       "      <td>Phoebe St / Spadina Ave</td>\n",
       "      <td>Annual Member</td>\n",
       "    </tr>\n",
       "    <tr>\n",
       "      <th>4</th>\n",
       "      <td>3244400</td>\n",
       "      <td>730</td>\n",
       "      <td>7207</td>\n",
       "      <td>7/1/2018 0:02</td>\n",
       "      <td>Dundas St W / Crawford St</td>\n",
       "      <td>7/1/2018 0:14</td>\n",
       "      <td>7000</td>\n",
       "      <td>Fort York  Blvd / Capreol Ct</td>\n",
       "      <td>Annual Member</td>\n",
       "    </tr>\n",
       "    <tr>\n",
       "      <th>...</th>\n",
       "      <td>...</td>\n",
       "      <td>...</td>\n",
       "      <td>...</td>\n",
       "      <td>...</td>\n",
       "      <td>...</td>\n",
       "      <td>...</td>\n",
       "      <td>...</td>\n",
       "      <td>...</td>\n",
       "      <td>...</td>\n",
       "    </tr>\n",
       "    <tr>\n",
       "      <th>822531</th>\n",
       "      <td>4158587</td>\n",
       "      <td>1724</td>\n",
       "      <td>7195</td>\n",
       "      <td>9/30/2018 23:47</td>\n",
       "      <td>Ulster St / Bathurst St</td>\n",
       "      <td>10/1/2018 0:16</td>\n",
       "      <td>7195</td>\n",
       "      <td>Ulster St / Bathurst St</td>\n",
       "      <td>Annual Member</td>\n",
       "    </tr>\n",
       "    <tr>\n",
       "      <th>822532</th>\n",
       "      <td>4158588</td>\n",
       "      <td>1632</td>\n",
       "      <td>7195</td>\n",
       "      <td>9/30/2018 23:49</td>\n",
       "      <td>Ulster St / Bathurst St</td>\n",
       "      <td>10/1/2018 0:16</td>\n",
       "      <td>7195</td>\n",
       "      <td>Ulster St / Bathurst St</td>\n",
       "      <td>Annual Member</td>\n",
       "    </tr>\n",
       "    <tr>\n",
       "      <th>822533</th>\n",
       "      <td>4158589</td>\n",
       "      <td>162</td>\n",
       "      <td>7121</td>\n",
       "      <td>9/30/2018 23:53</td>\n",
       "      <td>Jarvis St / Dundas St E</td>\n",
       "      <td>9/30/2018 23:55</td>\n",
       "      <td>7038</td>\n",
       "      <td>Dundas St W / Yonge St</td>\n",
       "      <td>Annual Member</td>\n",
       "    </tr>\n",
       "    <tr>\n",
       "      <th>822534</th>\n",
       "      <td>4158590</td>\n",
       "      <td>474</td>\n",
       "      <td>7140</td>\n",
       "      <td>9/30/2018 23:53</td>\n",
       "      <td>Macpherson Ave / Spadina Rd</td>\n",
       "      <td>10/1/2018 0:01</td>\n",
       "      <td>7281</td>\n",
       "      <td>Charles St W / Balmuto St - SMART</td>\n",
       "      <td>Annual Member</td>\n",
       "    </tr>\n",
       "    <tr>\n",
       "      <th>822535</th>\n",
       "      <td>4158591</td>\n",
       "      <td>500</td>\n",
       "      <td>7037</td>\n",
       "      <td>9/30/2018 23:54</td>\n",
       "      <td>Bathurst St / Dundas St W</td>\n",
       "      <td>10/1/2018 0:02</td>\n",
       "      <td>7239</td>\n",
       "      <td>Bloor St W / Manning Ave - SMART</td>\n",
       "      <td>Annual Member</td>\n",
       "    </tr>\n",
       "  </tbody>\n",
       "</table>\n",
       "<p>822536 rows × 9 columns</p>\n",
       "</div>"
      ],
      "text/plain": [
       "        trip_id  trip_duration_seconds  from_station_id  trip_start_time  \\\n",
       "0       3244396                    528             7254    7/1/2018 0:00   \n",
       "1       3244398                    570             7031    7/1/2018 0:00   \n",
       "2       3244397                    368             7286    7/1/2018 0:00   \n",
       "3       3244399                   1147             7248    7/1/2018 0:00   \n",
       "4       3244400                    730             7207    7/1/2018 0:02   \n",
       "...         ...                    ...              ...              ...   \n",
       "822531  4158587                   1724             7195  9/30/2018 23:47   \n",
       "822532  4158588                   1632             7195  9/30/2018 23:49   \n",
       "822533  4158589                    162             7121  9/30/2018 23:53   \n",
       "822534  4158590                    474             7140  9/30/2018 23:53   \n",
       "822535  4158591                    500             7037  9/30/2018 23:54   \n",
       "\n",
       "                        from_station_name   trip_stop_time  to_station_id  \\\n",
       "0          Borden St / Bloor St W - SMART    7/1/2018 0:08           7140   \n",
       "1                 Jarvis St / Isabella St    7/1/2018 0:09           7167   \n",
       "2        Gerrard St E / Broadview - SMART    7/1/2018 0:06           7286   \n",
       "3       Baldwin Ave / Spadina Ave - SMART    7/1/2018 0:19           7020   \n",
       "4               Dundas St W / Crawford St    7/1/2018 0:14           7000   \n",
       "...                                   ...              ...            ...   \n",
       "822531            Ulster St / Bathurst St   10/1/2018 0:16           7195   \n",
       "822532            Ulster St / Bathurst St   10/1/2018 0:16           7195   \n",
       "822533            Jarvis St / Dundas St E  9/30/2018 23:55           7038   \n",
       "822534        Macpherson Ave / Spadina Rd   10/1/2018 0:01           7281   \n",
       "822535          Bathurst St / Dundas St W   10/1/2018 0:02           7239   \n",
       "\n",
       "                           to_station_name      user_type  \n",
       "0              Macpherson Ave / Spadina Rd  Annual Member  \n",
       "1       Queen St E / George St (Moss Park)  Annual Member  \n",
       "2         Gerrard St E / Broadview - SMART  Casual Member  \n",
       "3                  Phoebe St / Spadina Ave  Annual Member  \n",
       "4             Fort York  Blvd / Capreol Ct  Annual Member  \n",
       "...                                    ...            ...  \n",
       "822531             Ulster St / Bathurst St  Annual Member  \n",
       "822532             Ulster St / Bathurst St  Annual Member  \n",
       "822533              Dundas St W / Yonge St  Annual Member  \n",
       "822534   Charles St W / Balmuto St - SMART  Annual Member  \n",
       "822535    Bloor St W / Manning Ave - SMART  Annual Member  \n",
       "\n",
       "[822536 rows x 9 columns]"
      ]
     },
     "execution_count": 1,
     "metadata": {},
     "output_type": "execute_result"
    }
   ],
   "source": [
    "import pandas as pd\n",
    "\n",
    "bikes = pd.read_csv('Bike_Share_Toronto_Ridership_Q3_2018.csv')\n",
    "bikes"
   ]
  },
  {
   "cell_type": "code",
   "execution_count": 2,
   "metadata": {},
   "outputs": [
    {
     "data": {
      "text/html": [
       "<div>\n",
       "<style scoped>\n",
       "    .dataframe tbody tr th:only-of-type {\n",
       "        vertical-align: middle;\n",
       "    }\n",
       "\n",
       "    .dataframe tbody tr th {\n",
       "        vertical-align: top;\n",
       "    }\n",
       "\n",
       "    .dataframe thead th {\n",
       "        text-align: right;\n",
       "    }\n",
       "</style>\n",
       "<table border=\"1\" class=\"dataframe\">\n",
       "  <thead>\n",
       "    <tr style=\"text-align: right;\">\n",
       "      <th></th>\n",
       "      <th>trip duration (minutes)</th>\n",
       "      <th>start time</th>\n",
       "      <th>departure station</th>\n",
       "      <th>arrival station</th>\n",
       "      <th>membership</th>\n",
       "    </tr>\n",
       "  </thead>\n",
       "  <tbody>\n",
       "    <tr>\n",
       "      <th>0</th>\n",
       "      <td>8.800000</td>\n",
       "      <td>7/1/2018 0:00</td>\n",
       "      <td>Borden St / Bloor St W - SMART</td>\n",
       "      <td>Macpherson Ave / Spadina Rd</td>\n",
       "      <td>Annual Member</td>\n",
       "    </tr>\n",
       "    <tr>\n",
       "      <th>1</th>\n",
       "      <td>9.500000</td>\n",
       "      <td>7/1/2018 0:00</td>\n",
       "      <td>Jarvis St / Isabella St</td>\n",
       "      <td>Queen St E / George St (Moss Park)</td>\n",
       "      <td>Annual Member</td>\n",
       "    </tr>\n",
       "    <tr>\n",
       "      <th>2</th>\n",
       "      <td>6.133333</td>\n",
       "      <td>7/1/2018 0:00</td>\n",
       "      <td>Gerrard St E / Broadview - SMART</td>\n",
       "      <td>Gerrard St E / Broadview - SMART</td>\n",
       "      <td>Casual Member</td>\n",
       "    </tr>\n",
       "    <tr>\n",
       "      <th>3</th>\n",
       "      <td>19.116667</td>\n",
       "      <td>7/1/2018 0:00</td>\n",
       "      <td>Baldwin Ave / Spadina Ave - SMART</td>\n",
       "      <td>Phoebe St / Spadina Ave</td>\n",
       "      <td>Annual Member</td>\n",
       "    </tr>\n",
       "    <tr>\n",
       "      <th>4</th>\n",
       "      <td>12.166667</td>\n",
       "      <td>7/1/2018 0:02</td>\n",
       "      <td>Dundas St W / Crawford St</td>\n",
       "      <td>Fort York  Blvd / Capreol Ct</td>\n",
       "      <td>Annual Member</td>\n",
       "    </tr>\n",
       "    <tr>\n",
       "      <th>...</th>\n",
       "      <td>...</td>\n",
       "      <td>...</td>\n",
       "      <td>...</td>\n",
       "      <td>...</td>\n",
       "      <td>...</td>\n",
       "    </tr>\n",
       "    <tr>\n",
       "      <th>822531</th>\n",
       "      <td>28.733333</td>\n",
       "      <td>9/30/2018 23:47</td>\n",
       "      <td>Ulster St / Bathurst St</td>\n",
       "      <td>Ulster St / Bathurst St</td>\n",
       "      <td>Annual Member</td>\n",
       "    </tr>\n",
       "    <tr>\n",
       "      <th>822532</th>\n",
       "      <td>27.200000</td>\n",
       "      <td>9/30/2018 23:49</td>\n",
       "      <td>Ulster St / Bathurst St</td>\n",
       "      <td>Ulster St / Bathurst St</td>\n",
       "      <td>Annual Member</td>\n",
       "    </tr>\n",
       "    <tr>\n",
       "      <th>822533</th>\n",
       "      <td>2.700000</td>\n",
       "      <td>9/30/2018 23:53</td>\n",
       "      <td>Jarvis St / Dundas St E</td>\n",
       "      <td>Dundas St W / Yonge St</td>\n",
       "      <td>Annual Member</td>\n",
       "    </tr>\n",
       "    <tr>\n",
       "      <th>822534</th>\n",
       "      <td>7.900000</td>\n",
       "      <td>9/30/2018 23:53</td>\n",
       "      <td>Macpherson Ave / Spadina Rd</td>\n",
       "      <td>Charles St W / Balmuto St - SMART</td>\n",
       "      <td>Annual Member</td>\n",
       "    </tr>\n",
       "    <tr>\n",
       "      <th>822535</th>\n",
       "      <td>8.333333</td>\n",
       "      <td>9/30/2018 23:54</td>\n",
       "      <td>Bathurst St / Dundas St W</td>\n",
       "      <td>Bloor St W / Manning Ave - SMART</td>\n",
       "      <td>Annual Member</td>\n",
       "    </tr>\n",
       "  </tbody>\n",
       "</table>\n",
       "<p>822536 rows × 5 columns</p>\n",
       "</div>"
      ],
      "text/plain": [
       "        trip duration (minutes)       start time  \\\n",
       "0                      8.800000    7/1/2018 0:00   \n",
       "1                      9.500000    7/1/2018 0:00   \n",
       "2                      6.133333    7/1/2018 0:00   \n",
       "3                     19.116667    7/1/2018 0:00   \n",
       "4                     12.166667    7/1/2018 0:02   \n",
       "...                         ...              ...   \n",
       "822531                28.733333  9/30/2018 23:47   \n",
       "822532                27.200000  9/30/2018 23:49   \n",
       "822533                 2.700000  9/30/2018 23:53   \n",
       "822534                 7.900000  9/30/2018 23:53   \n",
       "822535                 8.333333  9/30/2018 23:54   \n",
       "\n",
       "                        departure station                     arrival station  \\\n",
       "0          Borden St / Bloor St W - SMART         Macpherson Ave / Spadina Rd   \n",
       "1                 Jarvis St / Isabella St  Queen St E / George St (Moss Park)   \n",
       "2        Gerrard St E / Broadview - SMART    Gerrard St E / Broadview - SMART   \n",
       "3       Baldwin Ave / Spadina Ave - SMART             Phoebe St / Spadina Ave   \n",
       "4               Dundas St W / Crawford St        Fort York  Blvd / Capreol Ct   \n",
       "...                                   ...                                 ...   \n",
       "822531            Ulster St / Bathurst St             Ulster St / Bathurst St   \n",
       "822532            Ulster St / Bathurst St             Ulster St / Bathurst St   \n",
       "822533            Jarvis St / Dundas St E              Dundas St W / Yonge St   \n",
       "822534        Macpherson Ave / Spadina Rd   Charles St W / Balmuto St - SMART   \n",
       "822535          Bathurst St / Dundas St W    Bloor St W / Manning Ave - SMART   \n",
       "\n",
       "           membership  \n",
       "0       Annual Member  \n",
       "1       Annual Member  \n",
       "2       Casual Member  \n",
       "3       Annual Member  \n",
       "4       Annual Member  \n",
       "...               ...  \n",
       "822531  Annual Member  \n",
       "822532  Annual Member  \n",
       "822533  Annual Member  \n",
       "822534  Annual Member  \n",
       "822535  Annual Member  \n",
       "\n",
       "[822536 rows x 5 columns]"
      ]
     },
     "execution_count": 2,
     "metadata": {},
     "output_type": "execute_result"
    }
   ],
   "source": [
    "bikes['trip_duration_seconds'] = bikes['trip_duration_seconds'].div(60)\n",
    "bikes.drop(['trip_id','from_station_id','to_station_id','trip_stop_time'], axis = 1, inplace = True)\n",
    "bikes.columns = ['trip duration (minutes)', 'start time', 'departure station','arrival station','membership']\n",
    "\n",
    "bikes"
   ]
  },
  {
   "cell_type": "markdown",
   "metadata": {},
   "source": [
    "#### Pruning and reformatting data\n",
    "\n",
    "The csv data in it's original form contained some values that were not relevant to the present line of inquiry. As such, they were dropped from the data frame, and the remaining column headers were given more intuitive names for easier readability. "
   ]
  },
  {
   "cell_type": "code",
   "execution_count": 3,
   "metadata": {
    "scrolled": true
   },
   "outputs": [],
   "source": [
    "bikes = bikes.replace({'membership': {'Annual Member': 1, 'Casual Member': 0}})"
   ]
  },
  {
   "cell_type": "markdown",
   "metadata": {},
   "source": [
    "A dictionary-style value replacement was made for the two membership classes to better integrate these values into future analysis."
   ]
  },
  {
   "cell_type": "markdown",
   "metadata": {},
   "source": [
    "#### Area-specific data filtering\n",
    "\n",
    "To learn more about the usage of the Bike Share network, it would be useful to analyse not just the data of every trip made, but also subsets of that master data where the trip began in a certain neighborhood or area. New dataframes were made for four separate neighborhoods in the city of Toronto; Jarvis, Queens Quay, Harrison, and Davisville.\n",
    "\n",
    "To filter the data, any departure station value that contained a substring matching a specified string in the contains() function was appended to the relevant dataframe. In doing so, a number of stations are included as the departure stations of trips, which is useful for assessing the activity in an entire area, rather than one intersection. "
   ]
  },
  {
   "cell_type": "code",
   "execution_count": 4,
   "metadata": {},
   "outputs": [
    {
     "data": {
      "text/html": [
       "<div>\n",
       "<style scoped>\n",
       "    .dataframe tbody tr th:only-of-type {\n",
       "        vertical-align: middle;\n",
       "    }\n",
       "\n",
       "    .dataframe tbody tr th {\n",
       "        vertical-align: top;\n",
       "    }\n",
       "\n",
       "    .dataframe thead th {\n",
       "        text-align: right;\n",
       "    }\n",
       "</style>\n",
       "<table border=\"1\" class=\"dataframe\">\n",
       "  <thead>\n",
       "    <tr style=\"text-align: right;\">\n",
       "      <th></th>\n",
       "      <th>trip duration (minutes)</th>\n",
       "      <th>start time</th>\n",
       "      <th>departure station</th>\n",
       "      <th>arrival station</th>\n",
       "      <th>membership</th>\n",
       "    </tr>\n",
       "  </thead>\n",
       "  <tbody>\n",
       "    <tr>\n",
       "      <th>1</th>\n",
       "      <td>9.500000</td>\n",
       "      <td>7/1/2018 0:00</td>\n",
       "      <td>Jarvis St / Isabella St</td>\n",
       "      <td>Queen St E / George St (Moss Park)</td>\n",
       "      <td>1</td>\n",
       "    </tr>\n",
       "    <tr>\n",
       "      <th>13</th>\n",
       "      <td>14.116667</td>\n",
       "      <td>7/1/2018 0:07</td>\n",
       "      <td>Jarvis St / Isabella St</td>\n",
       "      <td>Yonge St / Harbour St</td>\n",
       "      <td>1</td>\n",
       "    </tr>\n",
       "    <tr>\n",
       "      <th>88</th>\n",
       "      <td>2.433333</td>\n",
       "      <td>7/1/2018 0:26</td>\n",
       "      <td>King St E / Jarvis St</td>\n",
       "      <td>Princess St / Adelaide St E</td>\n",
       "      <td>1</td>\n",
       "    </tr>\n",
       "    <tr>\n",
       "      <th>100</th>\n",
       "      <td>4.150000</td>\n",
       "      <td>7/1/2018 0:34</td>\n",
       "      <td>Richmond St E / Jarvis St Green P</td>\n",
       "      <td>Queen St E / Berkeley St</td>\n",
       "      <td>1</td>\n",
       "    </tr>\n",
       "    <tr>\n",
       "      <th>168</th>\n",
       "      <td>9.233333</td>\n",
       "      <td>7/1/2018 1:03</td>\n",
       "      <td>Jarvis St / Dundas St E</td>\n",
       "      <td>Dundas St E / Regent Park Blvd</td>\n",
       "      <td>1</td>\n",
       "    </tr>\n",
       "    <tr>\n",
       "      <th>...</th>\n",
       "      <td>...</td>\n",
       "      <td>...</td>\n",
       "      <td>...</td>\n",
       "      <td>...</td>\n",
       "      <td>...</td>\n",
       "    </tr>\n",
       "    <tr>\n",
       "      <th>822432</th>\n",
       "      <td>5.900000</td>\n",
       "      <td>9/30/2018 21:28</td>\n",
       "      <td>Jarvis St / Isabella St</td>\n",
       "      <td>Parliament St / Aberdeen Ave</td>\n",
       "      <td>1</td>\n",
       "    </tr>\n",
       "    <tr>\n",
       "      <th>822467</th>\n",
       "      <td>3.583333</td>\n",
       "      <td>9/30/2018 21:59</td>\n",
       "      <td>Jarvis St / Isabella St</td>\n",
       "      <td>Granby St / Church St - SMART</td>\n",
       "      <td>1</td>\n",
       "    </tr>\n",
       "    <tr>\n",
       "      <th>822510</th>\n",
       "      <td>7.833333</td>\n",
       "      <td>9/30/2018 22:48</td>\n",
       "      <td>Jarvis St / Carlton St</td>\n",
       "      <td>Queen St E / Sackville St</td>\n",
       "      <td>1</td>\n",
       "    </tr>\n",
       "    <tr>\n",
       "      <th>822523</th>\n",
       "      <td>5.166667</td>\n",
       "      <td>9/30/2018 23:26</td>\n",
       "      <td>Lower Jarvis St / The Esplanade</td>\n",
       "      <td>Cherry St / Mill St</td>\n",
       "      <td>0</td>\n",
       "    </tr>\n",
       "    <tr>\n",
       "      <th>822533</th>\n",
       "      <td>2.700000</td>\n",
       "      <td>9/30/2018 23:53</td>\n",
       "      <td>Jarvis St / Dundas St E</td>\n",
       "      <td>Dundas St W / Yonge St</td>\n",
       "      <td>1</td>\n",
       "    </tr>\n",
       "  </tbody>\n",
       "</table>\n",
       "<p>21939 rows × 5 columns</p>\n",
       "</div>"
      ],
      "text/plain": [
       "        trip duration (minutes)       start time  \\\n",
       "1                      9.500000    7/1/2018 0:00   \n",
       "13                    14.116667    7/1/2018 0:07   \n",
       "88                     2.433333    7/1/2018 0:26   \n",
       "100                    4.150000    7/1/2018 0:34   \n",
       "168                    9.233333    7/1/2018 1:03   \n",
       "...                         ...              ...   \n",
       "822432                 5.900000  9/30/2018 21:28   \n",
       "822467                 3.583333  9/30/2018 21:59   \n",
       "822510                 7.833333  9/30/2018 22:48   \n",
       "822523                 5.166667  9/30/2018 23:26   \n",
       "822533                 2.700000  9/30/2018 23:53   \n",
       "\n",
       "                        departure station                     arrival station  \\\n",
       "1                 Jarvis St / Isabella St  Queen St E / George St (Moss Park)   \n",
       "13                Jarvis St / Isabella St               Yonge St / Harbour St   \n",
       "88                  King St E / Jarvis St         Princess St / Adelaide St E   \n",
       "100     Richmond St E / Jarvis St Green P            Queen St E / Berkeley St   \n",
       "168               Jarvis St / Dundas St E      Dundas St E / Regent Park Blvd   \n",
       "...                                   ...                                 ...   \n",
       "822432            Jarvis St / Isabella St        Parliament St / Aberdeen Ave   \n",
       "822467            Jarvis St / Isabella St       Granby St / Church St - SMART   \n",
       "822510             Jarvis St / Carlton St           Queen St E / Sackville St   \n",
       "822523    Lower Jarvis St / The Esplanade                 Cherry St / Mill St   \n",
       "822533            Jarvis St / Dundas St E              Dundas St W / Yonge St   \n",
       "\n",
       "        membership  \n",
       "1                1  \n",
       "13               1  \n",
       "88               1  \n",
       "100              1  \n",
       "168              1  \n",
       "...            ...  \n",
       "822432           1  \n",
       "822467           1  \n",
       "822510           1  \n",
       "822523           0  \n",
       "822533           1  \n",
       "\n",
       "[21939 rows x 5 columns]"
      ]
     },
     "execution_count": 4,
     "metadata": {},
     "output_type": "execute_result"
    }
   ],
   "source": [
    "jarvis = bikes[bikes['departure station'].str.contains('Jarvis')]\n",
    "jarvis"
   ]
  },
  {
   "cell_type": "code",
   "execution_count": 5,
   "metadata": {},
   "outputs": [
    {
     "data": {
      "text/html": [
       "<div>\n",
       "<style scoped>\n",
       "    .dataframe tbody tr th:only-of-type {\n",
       "        vertical-align: middle;\n",
       "    }\n",
       "\n",
       "    .dataframe tbody tr th {\n",
       "        vertical-align: top;\n",
       "    }\n",
       "\n",
       "    .dataframe thead th {\n",
       "        text-align: right;\n",
       "    }\n",
       "</style>\n",
       "<table border=\"1\" class=\"dataframe\">\n",
       "  <thead>\n",
       "    <tr style=\"text-align: right;\">\n",
       "      <th></th>\n",
       "      <th>trip duration (minutes)</th>\n",
       "      <th>start time</th>\n",
       "      <th>departure station</th>\n",
       "      <th>arrival station</th>\n",
       "      <th>membership</th>\n",
       "    </tr>\n",
       "  </thead>\n",
       "  <tbody>\n",
       "    <tr>\n",
       "      <th>15</th>\n",
       "      <td>15.550000</td>\n",
       "      <td>7/1/2018 0:07</td>\n",
       "      <td>Queens Quay / Yonge St</td>\n",
       "      <td>Church St / Dundas St E - SMART</td>\n",
       "      <td>1</td>\n",
       "    </tr>\n",
       "    <tr>\n",
       "      <th>19</th>\n",
       "      <td>14.666667</td>\n",
       "      <td>7/1/2018 0:08</td>\n",
       "      <td>Queens Quay / Yonge St</td>\n",
       "      <td>Church St / Dundas St E - SMART</td>\n",
       "      <td>1</td>\n",
       "    </tr>\n",
       "    <tr>\n",
       "      <th>47</th>\n",
       "      <td>21.633333</td>\n",
       "      <td>7/1/2018 0:14</td>\n",
       "      <td>Queens Quay W / Lower Simcoe St</td>\n",
       "      <td>Lakeshore Blvd W / The Boulevard Club</td>\n",
       "      <td>1</td>\n",
       "    </tr>\n",
       "    <tr>\n",
       "      <th>77</th>\n",
       "      <td>34.733333</td>\n",
       "      <td>7/1/2018 0:22</td>\n",
       "      <td>Queens Quay W / Dan Leckie Way</td>\n",
       "      <td>Queens Quay W / Lower Simcoe St</td>\n",
       "      <td>0</td>\n",
       "    </tr>\n",
       "    <tr>\n",
       "      <th>80</th>\n",
       "      <td>31.200000</td>\n",
       "      <td>7/1/2018 0:23</td>\n",
       "      <td>Queens Quay W / Dan Leckie Way</td>\n",
       "      <td>Ontario Place Blvd / Lakeshore Blvd W</td>\n",
       "      <td>1</td>\n",
       "    </tr>\n",
       "    <tr>\n",
       "      <th>...</th>\n",
       "      <td>...</td>\n",
       "      <td>...</td>\n",
       "      <td>...</td>\n",
       "      <td>...</td>\n",
       "      <td>...</td>\n",
       "    </tr>\n",
       "    <tr>\n",
       "      <th>822404</th>\n",
       "      <td>12.700000</td>\n",
       "      <td>9/30/2018 21:16</td>\n",
       "      <td>York St / Queens Quay W</td>\n",
       "      <td>York St / Queens Quay W</td>\n",
       "      <td>1</td>\n",
       "    </tr>\n",
       "    <tr>\n",
       "      <th>822438</th>\n",
       "      <td>34.433333</td>\n",
       "      <td>9/30/2018 21:29</td>\n",
       "      <td>Queens Quay W / Lower Simcoe St</td>\n",
       "      <td>Baldwin Ave / Spadina Ave - SMART</td>\n",
       "      <td>1</td>\n",
       "    </tr>\n",
       "    <tr>\n",
       "      <th>822488</th>\n",
       "      <td>13.550000</td>\n",
       "      <td>9/30/2018 22:25</td>\n",
       "      <td>York St / Queens Quay W</td>\n",
       "      <td>Simcoe St / Michael Sweet Ave</td>\n",
       "      <td>0</td>\n",
       "    </tr>\n",
       "    <tr>\n",
       "      <th>822506</th>\n",
       "      <td>18.616667</td>\n",
       "      <td>9/30/2018 22:45</td>\n",
       "      <td>Queens Quay W / Lower Simcoe St</td>\n",
       "      <td>Queens Quay W / Lower Simcoe St</td>\n",
       "      <td>0</td>\n",
       "    </tr>\n",
       "    <tr>\n",
       "      <th>822507</th>\n",
       "      <td>18.183333</td>\n",
       "      <td>9/30/2018 22:45</td>\n",
       "      <td>Queens Quay W / Lower Simcoe St</td>\n",
       "      <td>Queens Quay W / Lower Simcoe St</td>\n",
       "      <td>0</td>\n",
       "    </tr>\n",
       "  </tbody>\n",
       "</table>\n",
       "<p>65069 rows × 5 columns</p>\n",
       "</div>"
      ],
      "text/plain": [
       "        trip duration (minutes)       start time  \\\n",
       "15                    15.550000    7/1/2018 0:07   \n",
       "19                    14.666667    7/1/2018 0:08   \n",
       "47                    21.633333    7/1/2018 0:14   \n",
       "77                    34.733333    7/1/2018 0:22   \n",
       "80                    31.200000    7/1/2018 0:23   \n",
       "...                         ...              ...   \n",
       "822404                12.700000  9/30/2018 21:16   \n",
       "822438                34.433333  9/30/2018 21:29   \n",
       "822488                13.550000  9/30/2018 22:25   \n",
       "822506                18.616667  9/30/2018 22:45   \n",
       "822507                18.183333  9/30/2018 22:45   \n",
       "\n",
       "                      departure station  \\\n",
       "15               Queens Quay / Yonge St   \n",
       "19               Queens Quay / Yonge St   \n",
       "47      Queens Quay W / Lower Simcoe St   \n",
       "77       Queens Quay W / Dan Leckie Way   \n",
       "80       Queens Quay W / Dan Leckie Way   \n",
       "...                                 ...   \n",
       "822404          York St / Queens Quay W   \n",
       "822438  Queens Quay W / Lower Simcoe St   \n",
       "822488          York St / Queens Quay W   \n",
       "822506  Queens Quay W / Lower Simcoe St   \n",
       "822507  Queens Quay W / Lower Simcoe St   \n",
       "\n",
       "                              arrival station  membership  \n",
       "15            Church St / Dundas St E - SMART           1  \n",
       "19            Church St / Dundas St E - SMART           1  \n",
       "47      Lakeshore Blvd W / The Boulevard Club           1  \n",
       "77            Queens Quay W / Lower Simcoe St           0  \n",
       "80      Ontario Place Blvd / Lakeshore Blvd W           1  \n",
       "...                                       ...         ...  \n",
       "822404                York St / Queens Quay W           1  \n",
       "822438      Baldwin Ave / Spadina Ave - SMART           1  \n",
       "822488          Simcoe St / Michael Sweet Ave           0  \n",
       "822506        Queens Quay W / Lower Simcoe St           0  \n",
       "822507        Queens Quay W / Lower Simcoe St           0  \n",
       "\n",
       "[65069 rows x 5 columns]"
      ]
     },
     "execution_count": 5,
     "metadata": {},
     "output_type": "execute_result"
    }
   ],
   "source": [
    "quay = bikes[bikes['departure station'].str.contains('Queens Quay')]\n",
    "quay"
   ]
  },
  {
   "cell_type": "code",
   "execution_count": 6,
   "metadata": {},
   "outputs": [
    {
     "data": {
      "text/html": [
       "<div>\n",
       "<style scoped>\n",
       "    .dataframe tbody tr th:only-of-type {\n",
       "        vertical-align: middle;\n",
       "    }\n",
       "\n",
       "    .dataframe tbody tr th {\n",
       "        vertical-align: top;\n",
       "    }\n",
       "\n",
       "    .dataframe thead th {\n",
       "        text-align: right;\n",
       "    }\n",
       "</style>\n",
       "<table border=\"1\" class=\"dataframe\">\n",
       "  <thead>\n",
       "    <tr style=\"text-align: right;\">\n",
       "      <th></th>\n",
       "      <th>trip duration (minutes)</th>\n",
       "      <th>start time</th>\n",
       "      <th>departure station</th>\n",
       "      <th>arrival station</th>\n",
       "      <th>membership</th>\n",
       "    </tr>\n",
       "  </thead>\n",
       "  <tbody>\n",
       "    <tr>\n",
       "      <th>1184</th>\n",
       "      <td>28.266667</td>\n",
       "      <td>7/1/2018 11:15</td>\n",
       "      <td>Ossington Ave / Harrison St</td>\n",
       "      <td>York St / Queens Quay W</td>\n",
       "      <td>0</td>\n",
       "    </tr>\n",
       "    <tr>\n",
       "      <th>1186</th>\n",
       "      <td>28.216667</td>\n",
       "      <td>7/1/2018 11:15</td>\n",
       "      <td>Ossington Ave / Harrison St</td>\n",
       "      <td>York St / Queens Quay W</td>\n",
       "      <td>0</td>\n",
       "    </tr>\n",
       "    <tr>\n",
       "      <th>2178</th>\n",
       "      <td>10.266667</td>\n",
       "      <td>7/1/2018 13:26</td>\n",
       "      <td>Dovercourt Rd / Harrison St (Green P) - SMART</td>\n",
       "      <td>Euclid Ave / Bloor St W</td>\n",
       "      <td>1</td>\n",
       "    </tr>\n",
       "    <tr>\n",
       "      <th>3021</th>\n",
       "      <td>13.283333</td>\n",
       "      <td>7/1/2018 15:10</td>\n",
       "      <td>Ossington Ave / Harrison St</td>\n",
       "      <td>Huron/ Harbord St</td>\n",
       "      <td>1</td>\n",
       "    </tr>\n",
       "    <tr>\n",
       "      <th>4359</th>\n",
       "      <td>25.483333</td>\n",
       "      <td>7/1/2018 17:45</td>\n",
       "      <td>Dovercourt Rd / Harrison St (Green P) - SMART</td>\n",
       "      <td>Dockside Dr / Queens Quay E (Sugar Beach)</td>\n",
       "      <td>1</td>\n",
       "    </tr>\n",
       "    <tr>\n",
       "      <th>...</th>\n",
       "      <td>...</td>\n",
       "      <td>...</td>\n",
       "      <td>...</td>\n",
       "      <td>...</td>\n",
       "      <td>...</td>\n",
       "    </tr>\n",
       "    <tr>\n",
       "      <th>818150</th>\n",
       "      <td>13.966667</td>\n",
       "      <td>9/30/2018 2:30</td>\n",
       "      <td>Dovercourt Rd / Harrison St (Green P) - SMART</td>\n",
       "      <td>Kendal Ave / Spadina Rd</td>\n",
       "      <td>1</td>\n",
       "    </tr>\n",
       "    <tr>\n",
       "      <th>818967</th>\n",
       "      <td>20.950000</td>\n",
       "      <td>9/30/2018 10:46</td>\n",
       "      <td>Ossington Ave / Harrison St</td>\n",
       "      <td>Richmond St E / Jarvis St Green P</td>\n",
       "      <td>1</td>\n",
       "    </tr>\n",
       "    <tr>\n",
       "      <th>820711</th>\n",
       "      <td>15.416667</td>\n",
       "      <td>9/30/2018 15:39</td>\n",
       "      <td>Ossington Ave / Harrison St</td>\n",
       "      <td>McGill St / Church St</td>\n",
       "      <td>1</td>\n",
       "    </tr>\n",
       "    <tr>\n",
       "      <th>821073</th>\n",
       "      <td>15.216667</td>\n",
       "      <td>9/30/2018 16:35</td>\n",
       "      <td>Ossington Ave / Harrison St</td>\n",
       "      <td>Bay St / College St (East Side)</td>\n",
       "      <td>1</td>\n",
       "    </tr>\n",
       "    <tr>\n",
       "      <th>821201</th>\n",
       "      <td>3.833333</td>\n",
       "      <td>9/30/2018 16:53</td>\n",
       "      <td>Dovercourt Rd / Harrison St (Green P) - SMART</td>\n",
       "      <td>Queen St W / Dovercourt Rd</td>\n",
       "      <td>1</td>\n",
       "    </tr>\n",
       "  </tbody>\n",
       "</table>\n",
       "<p>2035 rows × 5 columns</p>\n",
       "</div>"
      ],
      "text/plain": [
       "        trip duration (minutes)       start time  \\\n",
       "1184                  28.266667   7/1/2018 11:15   \n",
       "1186                  28.216667   7/1/2018 11:15   \n",
       "2178                  10.266667   7/1/2018 13:26   \n",
       "3021                  13.283333   7/1/2018 15:10   \n",
       "4359                  25.483333   7/1/2018 17:45   \n",
       "...                         ...              ...   \n",
       "818150                13.966667   9/30/2018 2:30   \n",
       "818967                20.950000  9/30/2018 10:46   \n",
       "820711                15.416667  9/30/2018 15:39   \n",
       "821073                15.216667  9/30/2018 16:35   \n",
       "821201                 3.833333  9/30/2018 16:53   \n",
       "\n",
       "                                    departure station  \\\n",
       "1184                      Ossington Ave / Harrison St   \n",
       "1186                      Ossington Ave / Harrison St   \n",
       "2178    Dovercourt Rd / Harrison St (Green P) - SMART   \n",
       "3021                      Ossington Ave / Harrison St   \n",
       "4359    Dovercourt Rd / Harrison St (Green P) - SMART   \n",
       "...                                               ...   \n",
       "818150  Dovercourt Rd / Harrison St (Green P) - SMART   \n",
       "818967                    Ossington Ave / Harrison St   \n",
       "820711                    Ossington Ave / Harrison St   \n",
       "821073                    Ossington Ave / Harrison St   \n",
       "821201  Dovercourt Rd / Harrison St (Green P) - SMART   \n",
       "\n",
       "                                  arrival station  membership  \n",
       "1184                      York St / Queens Quay W           0  \n",
       "1186                      York St / Queens Quay W           0  \n",
       "2178                      Euclid Ave / Bloor St W           1  \n",
       "3021                            Huron/ Harbord St           1  \n",
       "4359    Dockside Dr / Queens Quay E (Sugar Beach)           1  \n",
       "...                                           ...         ...  \n",
       "818150                    Kendal Ave / Spadina Rd           1  \n",
       "818967          Richmond St E / Jarvis St Green P           1  \n",
       "820711                      McGill St / Church St           1  \n",
       "821073            Bay St / College St (East Side)           1  \n",
       "821201                 Queen St W / Dovercourt Rd           1  \n",
       "\n",
       "[2035 rows x 5 columns]"
      ]
     },
     "execution_count": 6,
     "metadata": {},
     "output_type": "execute_result"
    }
   ],
   "source": [
    "harrison = bikes[bikes['departure station'].str.contains('Harrison')]\n",
    "harrison"
   ]
  },
  {
   "cell_type": "code",
   "execution_count": 7,
   "metadata": {},
   "outputs": [
    {
     "data": {
      "text/html": [
       "<div>\n",
       "<style scoped>\n",
       "    .dataframe tbody tr th:only-of-type {\n",
       "        vertical-align: middle;\n",
       "    }\n",
       "\n",
       "    .dataframe tbody tr th {\n",
       "        vertical-align: top;\n",
       "    }\n",
       "\n",
       "    .dataframe thead th {\n",
       "        text-align: right;\n",
       "    }\n",
       "</style>\n",
       "<table border=\"1\" class=\"dataframe\">\n",
       "  <thead>\n",
       "    <tr style=\"text-align: right;\">\n",
       "      <th></th>\n",
       "      <th>trip duration (minutes)</th>\n",
       "      <th>start time</th>\n",
       "      <th>departure station</th>\n",
       "      <th>arrival station</th>\n",
       "      <th>membership</th>\n",
       "    </tr>\n",
       "  </thead>\n",
       "  <tbody>\n",
       "    <tr>\n",
       "      <th>498330</th>\n",
       "      <td>37.550000</td>\n",
       "      <td>8/24/2018 12:57</td>\n",
       "      <td>Yonge St / Davisville Ave</td>\n",
       "      <td>Elizabeth St / Edward St (Bus Terminal)</td>\n",
       "      <td>0</td>\n",
       "    </tr>\n",
       "    <tr>\n",
       "      <th>498337</th>\n",
       "      <td>41.100000</td>\n",
       "      <td>8/24/2018 12:58</td>\n",
       "      <td>Yonge St / Davisville Ave</td>\n",
       "      <td>Walton St / Elizabeth St - SMART</td>\n",
       "      <td>0</td>\n",
       "    </tr>\n",
       "    <tr>\n",
       "      <th>499007</th>\n",
       "      <td>12.866667</td>\n",
       "      <td>8/24/2018 14:14</td>\n",
       "      <td>Yonge St / Davisville Ave</td>\n",
       "      <td>Yonge St / Yorkville Ave</td>\n",
       "      <td>1</td>\n",
       "    </tr>\n",
       "    <tr>\n",
       "      <th>499564</th>\n",
       "      <td>30.416667</td>\n",
       "      <td>8/24/2018 15:13</td>\n",
       "      <td>Yonge St / Davisville Ave</td>\n",
       "      <td>Yonge St / Yorkville Ave</td>\n",
       "      <td>1</td>\n",
       "    </tr>\n",
       "    <tr>\n",
       "      <th>499566</th>\n",
       "      <td>29.916667</td>\n",
       "      <td>8/24/2018 15:13</td>\n",
       "      <td>Yonge St / Davisville Ave</td>\n",
       "      <td>Yonge St / Yorkville Ave</td>\n",
       "      <td>1</td>\n",
       "    </tr>\n",
       "    <tr>\n",
       "      <th>...</th>\n",
       "      <td>...</td>\n",
       "      <td>...</td>\n",
       "      <td>...</td>\n",
       "      <td>...</td>\n",
       "      <td>...</td>\n",
       "    </tr>\n",
       "    <tr>\n",
       "      <th>819261</th>\n",
       "      <td>22.300000</td>\n",
       "      <td>9/30/2018 11:44</td>\n",
       "      <td>Yonge St / Davisville Ave</td>\n",
       "      <td>Amelia St. / Sumach St.</td>\n",
       "      <td>0</td>\n",
       "    </tr>\n",
       "    <tr>\n",
       "      <th>819334</th>\n",
       "      <td>18.216667</td>\n",
       "      <td>9/30/2018 11:59</td>\n",
       "      <td>Yonge St / Davisville Ave</td>\n",
       "      <td>The Royal Ontario Museum (Bloor St Entrance)</td>\n",
       "      <td>1</td>\n",
       "    </tr>\n",
       "    <tr>\n",
       "      <th>819335</th>\n",
       "      <td>18.016667</td>\n",
       "      <td>9/30/2018 11:59</td>\n",
       "      <td>Yonge St / Davisville Ave</td>\n",
       "      <td>The Royal Ontario Museum (Bloor St Entrance)</td>\n",
       "      <td>1</td>\n",
       "    </tr>\n",
       "    <tr>\n",
       "      <th>820627</th>\n",
       "      <td>24.316667</td>\n",
       "      <td>9/30/2018 15:26</td>\n",
       "      <td>Yonge St / Davisville Ave</td>\n",
       "      <td>The Royal Ontario Museum (Bloor St Entrance)</td>\n",
       "      <td>1</td>\n",
       "    </tr>\n",
       "    <tr>\n",
       "      <th>822213</th>\n",
       "      <td>16.883333</td>\n",
       "      <td>9/30/2018 20:10</td>\n",
       "      <td>Yonge St / Davisville Ave</td>\n",
       "      <td>Dalton Rd / Bloor St W</td>\n",
       "      <td>1</td>\n",
       "    </tr>\n",
       "  </tbody>\n",
       "</table>\n",
       "<p>328 rows × 5 columns</p>\n",
       "</div>"
      ],
      "text/plain": [
       "        trip duration (minutes)       start time          departure station  \\\n",
       "498330                37.550000  8/24/2018 12:57  Yonge St / Davisville Ave   \n",
       "498337                41.100000  8/24/2018 12:58  Yonge St / Davisville Ave   \n",
       "499007                12.866667  8/24/2018 14:14  Yonge St / Davisville Ave   \n",
       "499564                30.416667  8/24/2018 15:13  Yonge St / Davisville Ave   \n",
       "499566                29.916667  8/24/2018 15:13  Yonge St / Davisville Ave   \n",
       "...                         ...              ...                        ...   \n",
       "819261                22.300000  9/30/2018 11:44  Yonge St / Davisville Ave   \n",
       "819334                18.216667  9/30/2018 11:59  Yonge St / Davisville Ave   \n",
       "819335                18.016667  9/30/2018 11:59  Yonge St / Davisville Ave   \n",
       "820627                24.316667  9/30/2018 15:26  Yonge St / Davisville Ave   \n",
       "822213                16.883333  9/30/2018 20:10  Yonge St / Davisville Ave   \n",
       "\n",
       "                                     arrival station  membership  \n",
       "498330       Elizabeth St / Edward St (Bus Terminal)           0  \n",
       "498337              Walton St / Elizabeth St - SMART           0  \n",
       "499007                      Yonge St / Yorkville Ave           1  \n",
       "499564                      Yonge St / Yorkville Ave           1  \n",
       "499566                      Yonge St / Yorkville Ave           1  \n",
       "...                                              ...         ...  \n",
       "819261                       Amelia St. / Sumach St.           0  \n",
       "819334  The Royal Ontario Museum (Bloor St Entrance)           1  \n",
       "819335  The Royal Ontario Museum (Bloor St Entrance)           1  \n",
       "820627  The Royal Ontario Museum (Bloor St Entrance)           1  \n",
       "822213                        Dalton Rd / Bloor St W           1  \n",
       "\n",
       "[328 rows x 5 columns]"
      ]
     },
     "execution_count": 7,
     "metadata": {},
     "output_type": "execute_result"
    }
   ],
   "source": [
    "davisville = bikes[bikes['departure station'].str.contains('Davisville')]\n",
    "davisville"
   ]
  },
  {
   "cell_type": "markdown",
   "metadata": {},
   "source": [
    "Each dataframe has been created, and already yields some preliminary information. For instance, it is now understood that, of the four neighborhoods, Queens Quay had the greatest amount of activity, with roughly 65000 trips being made from stations in that area."
   ]
  },
  {
   "cell_type": "markdown",
   "metadata": {},
   "source": [
    "#### Membership data\n",
    "\n",
    "The type of membership that users have may have an impact on their useage of the Bike Share system, so it would be useful to understand what proportions of trips were made by Annual and Casual memberships. Data on individual users was not collected as this data is anonymous, but useful inferences can still be made. \n",
    "\n",
    "First, the overall proportions of each membership classes' trips is calculated for the entire data set by counting the occurrences of 1's and 0's, then calculating the proportion of trips made by each class of membership. "
   ]
  },
  {
   "cell_type": "code",
   "execution_count": 8,
   "metadata": {},
   "outputs": [
    {
     "data": {
      "text/plain": [
       "1    77.005019\n",
       "0    22.994981\n",
       "Name: membership, dtype: float64"
      ]
     },
     "execution_count": 8,
     "metadata": {},
     "output_type": "execute_result"
    }
   ],
   "source": [
    "bikes['membership'].value_counts(normalize=True)*100"
   ]
  },
  {
   "cell_type": "code",
   "execution_count": 9,
   "metadata": {},
   "outputs": [
    {
     "data": {
      "text/plain": [
       "1    54.559007\n",
       "0    45.440993\n",
       "Name: membership, dtype: float64"
      ]
     },
     "execution_count": 9,
     "metadata": {},
     "output_type": "execute_result"
    }
   ],
   "source": [
    "quay['membership'].value_counts(normalize=True)*100"
   ]
  },
  {
   "cell_type": "code",
   "execution_count": 10,
   "metadata": {},
   "outputs": [
    {
     "data": {
      "text/plain": [
       "1    79.912485\n",
       "0    20.087515\n",
       "Name: membership, dtype: float64"
      ]
     },
     "execution_count": 10,
     "metadata": {},
     "output_type": "execute_result"
    }
   ],
   "source": [
    "jarvis['membership'].value_counts(normalize=True)*100"
   ]
  },
  {
   "cell_type": "code",
   "execution_count": 11,
   "metadata": {},
   "outputs": [
    {
     "data": {
      "text/plain": [
       "1    85.552826\n",
       "0    14.447174\n",
       "Name: membership, dtype: float64"
      ]
     },
     "execution_count": 11,
     "metadata": {},
     "output_type": "execute_result"
    }
   ],
   "source": [
    "harrison['membership'].value_counts(normalize=True)*100"
   ]
  },
  {
   "cell_type": "code",
   "execution_count": 12,
   "metadata": {},
   "outputs": [
    {
     "data": {
      "text/plain": [
       "1    78.04878\n",
       "0    21.95122\n",
       "Name: membership, dtype: float64"
      ]
     },
     "execution_count": 12,
     "metadata": {},
     "output_type": "execute_result"
    }
   ],
   "source": [
    "davisville['membership'].value_counts(normalize=True)*100"
   ]
  },
  {
   "cell_type": "markdown",
   "metadata": {},
   "source": [
    "#### Visualization of trip durations\n",
    "\n",
    "When analysing the use of the Bike Share network, a key piece of information is the amount of time that a person is riding a bike for. In general, trip durations would not exceed 45 minutes, as an overage fee applies for any duration in excess of that time, but a small proportion of trips exceed this slightly. To analyse the data concerning trip duration, histograms are used to assess the distribution of durations. \n",
    "\n",
    "First, the overall distribution of durations for the entire Bike Share network is produced. Subsequently, each individual neighborhood has it's distribution visualised with a histogram.\n"
   ]
  },
  {
   "cell_type": "code",
   "execution_count": 13,
   "metadata": {},
   "outputs": [
    {
     "data": {
      "text/plain": [
       "array([[<matplotlib.axes._subplots.AxesSubplot object at 0x000001D9120A5D90>]],\n",
       "      dtype=object)"
      ]
     },
     "execution_count": 13,
     "metadata": {},
     "output_type": "execute_result"
    },
    {
     "data": {
      "image/png": "[encoded data removed]",
      "text/plain": [
       "<Figure size 432x288 with 1 Axes>"
      ]
     },
     "metadata": {
      "needs_background": "light"
     },
     "output_type": "display_data"
    }
   ],
   "source": [
    "bikes.hist(column = 'trip duration (minutes)', bins = 100, range=[0,45])\n"
   ]
  },
  {
   "cell_type": "code",
   "execution_count": 14,
   "metadata": {},
   "outputs": [
    {
     "data": {
      "text/html": [
       "<div>\n",
       "<style scoped>\n",
       "    .dataframe tbody tr th:only-of-type {\n",
       "        vertical-align: middle;\n",
       "    }\n",
       "\n",
       "    .dataframe tbody tr th {\n",
       "        vertical-align: top;\n",
       "    }\n",
       "\n",
       "    .dataframe thead th {\n",
       "        text-align: right;\n",
       "    }\n",
       "</style>\n",
       "<table border=\"1\" class=\"dataframe\">\n",
       "  <thead>\n",
       "    <tr style=\"text-align: right;\">\n",
       "      <th></th>\n",
       "      <th>trip duration (minutes)</th>\n",
       "    </tr>\n",
       "    <tr>\n",
       "      <th>membership</th>\n",
       "      <th></th>\n",
       "    </tr>\n",
       "  </thead>\n",
       "  <tbody>\n",
       "    <tr>\n",
       "      <th>0</th>\n",
       "      <td>31.835512</td>\n",
       "    </tr>\n",
       "    <tr>\n",
       "      <th>1</th>\n",
       "      <td>13.123103</td>\n",
       "    </tr>\n",
       "  </tbody>\n",
       "</table>\n",
       "</div>"
      ],
      "text/plain": [
       "            trip duration (minutes)\n",
       "membership                         \n",
       "0                         31.835512\n",
       "1                         13.123103"
      ]
     },
     "execution_count": 14,
     "metadata": {},
     "output_type": "execute_result"
    }
   ],
   "source": [
    "bikes.groupby('membership').mean()"
   ]
  },
  {
   "cell_type": "code",
   "execution_count": 15,
   "metadata": {},
   "outputs": [
    {
     "data": {
      "text/plain": [
       "array([[<matplotlib.axes._subplots.AxesSubplot object at 0x000001D9127F29D0>]],\n",
       "      dtype=object)"
      ]
     },
     "execution_count": 15,
     "metadata": {},
     "output_type": "execute_result"
    },
    {
     "data": {
      "image/png": "[encoded data removed]",
      "text/plain": [
       "<Figure size 432x288 with 1 Axes>"
      ]
     },
     "metadata": {
      "needs_background": "light"
     },
     "output_type": "display_data"
    }
   ],
   "source": [
    " jarvis.hist(column = 'trip duration (minutes)', bins = 100, range=[0,45])"
   ]
  },
  {
   "cell_type": "code",
   "execution_count": 16,
   "metadata": {},
   "outputs": [
    {
     "data": {
      "text/html": [
       "<div>\n",
       "<style scoped>\n",
       "    .dataframe tbody tr th:only-of-type {\n",
       "        vertical-align: middle;\n",
       "    }\n",
       "\n",
       "    .dataframe tbody tr th {\n",
       "        vertical-align: top;\n",
       "    }\n",
       "\n",
       "    .dataframe thead th {\n",
       "        text-align: right;\n",
       "    }\n",
       "</style>\n",
       "<table border=\"1\" class=\"dataframe\">\n",
       "  <thead>\n",
       "    <tr style=\"text-align: right;\">\n",
       "      <th></th>\n",
       "      <th>trip duration (minutes)</th>\n",
       "    </tr>\n",
       "    <tr>\n",
       "      <th>membership</th>\n",
       "      <th></th>\n",
       "    </tr>\n",
       "  </thead>\n",
       "  <tbody>\n",
       "    <tr>\n",
       "      <th>0</th>\n",
       "      <td>28.807768</td>\n",
       "    </tr>\n",
       "    <tr>\n",
       "      <th>1</th>\n",
       "      <td>12.104828</td>\n",
       "    </tr>\n",
       "  </tbody>\n",
       "</table>\n",
       "</div>"
      ],
      "text/plain": [
       "            trip duration (minutes)\n",
       "membership                         \n",
       "0                         28.807768\n",
       "1                         12.104828"
      ]
     },
     "execution_count": 16,
     "metadata": {},
     "output_type": "execute_result"
    }
   ],
   "source": [
    "jarvis.groupby('membership').mean()"
   ]
  },
  {
   "cell_type": "code",
   "execution_count": 17,
   "metadata": {},
   "outputs": [
    {
     "data": {
      "text/plain": [
       "array([[<matplotlib.axes._subplots.AxesSubplot object at 0x000001D9119D18E0>]],\n",
       "      dtype=object)"
      ]
     },
     "execution_count": 17,
     "metadata": {},
     "output_type": "execute_result"
    },
    {
     "data": {
      "image/png": "[encoded data removed]",
      "text/plain": [
       "<Figure size 432x288 with 1 Axes>"
      ]
     },
     "metadata": {
      "needs_background": "light"
     },
     "output_type": "display_data"
    }
   ],
   "source": [
    "harrison.hist(column = 'trip duration (minutes)', bins = 100, range=[0,45])"
   ]
  },
  {
   "cell_type": "code",
   "execution_count": 18,
   "metadata": {},
   "outputs": [
    {
     "data": {
      "text/html": [
       "<div>\n",
       "<style scoped>\n",
       "    .dataframe tbody tr th:only-of-type {\n",
       "        vertical-align: middle;\n",
       "    }\n",
       "\n",
       "    .dataframe tbody tr th {\n",
       "        vertical-align: top;\n",
       "    }\n",
       "\n",
       "    .dataframe thead th {\n",
       "        text-align: right;\n",
       "    }\n",
       "</style>\n",
       "<table border=\"1\" class=\"dataframe\">\n",
       "  <thead>\n",
       "    <tr style=\"text-align: right;\">\n",
       "      <th></th>\n",
       "      <th>trip duration (minutes)</th>\n",
       "    </tr>\n",
       "    <tr>\n",
       "      <th>membership</th>\n",
       "      <th></th>\n",
       "    </tr>\n",
       "  </thead>\n",
       "  <tbody>\n",
       "    <tr>\n",
       "      <th>0</th>\n",
       "      <td>21.939683</td>\n",
       "    </tr>\n",
       "    <tr>\n",
       "      <th>1</th>\n",
       "      <td>15.289393</td>\n",
       "    </tr>\n",
       "  </tbody>\n",
       "</table>\n",
       "</div>"
      ],
      "text/plain": [
       "            trip duration (minutes)\n",
       "membership                         \n",
       "0                         21.939683\n",
       "1                         15.289393"
      ]
     },
     "execution_count": 18,
     "metadata": {},
     "output_type": "execute_result"
    }
   ],
   "source": [
    "harrison.groupby('membership').mean()"
   ]
  },
  {
   "cell_type": "code",
   "execution_count": 19,
   "metadata": {
    "scrolled": true
   },
   "outputs": [
    {
     "data": {
      "text/plain": [
       "array([[<matplotlib.axes._subplots.AxesSubplot object at 0x000001D911B6D580>]],\n",
       "      dtype=object)"
      ]
     },
     "execution_count": 19,
     "metadata": {},
     "output_type": "execute_result"
    },
    {
     "data": {
      "image/png": "[encoded data removed]",
      "text/plain": [
       "<Figure size 432x288 with 1 Axes>"
      ]
     },
     "metadata": {
      "needs_background": "light"
     },
     "output_type": "display_data"
    }
   ],
   "source": [
    "quay.hist(column = 'trip duration (minutes)', bins = 100, range=[0,45])"
   ]
  },
  {
   "cell_type": "code",
   "execution_count": 20,
   "metadata": {},
   "outputs": [
    {
     "data": {
      "text/html": [
       "<div>\n",
       "<style scoped>\n",
       "    .dataframe tbody tr th:only-of-type {\n",
       "        vertical-align: middle;\n",
       "    }\n",
       "\n",
       "    .dataframe tbody tr th {\n",
       "        vertical-align: top;\n",
       "    }\n",
       "\n",
       "    .dataframe thead th {\n",
       "        text-align: right;\n",
       "    }\n",
       "</style>\n",
       "<table border=\"1\" class=\"dataframe\">\n",
       "  <thead>\n",
       "    <tr style=\"text-align: right;\">\n",
       "      <th></th>\n",
       "      <th>trip duration (minutes)</th>\n",
       "    </tr>\n",
       "    <tr>\n",
       "      <th>membership</th>\n",
       "      <th></th>\n",
       "    </tr>\n",
       "  </thead>\n",
       "  <tbody>\n",
       "    <tr>\n",
       "      <th>0</th>\n",
       "      <td>42.062931</td>\n",
       "    </tr>\n",
       "    <tr>\n",
       "      <th>1</th>\n",
       "      <td>17.870665</td>\n",
       "    </tr>\n",
       "  </tbody>\n",
       "</table>\n",
       "</div>"
      ],
      "text/plain": [
       "            trip duration (minutes)\n",
       "membership                         \n",
       "0                         42.062931\n",
       "1                         17.870665"
      ]
     },
     "execution_count": 20,
     "metadata": {},
     "output_type": "execute_result"
    }
   ],
   "source": [
    "quay.groupby('membership').mean()"
   ]
  },
  {
   "cell_type": "code",
   "execution_count": 21,
   "metadata": {
    "scrolled": true
   },
   "outputs": [
    {
     "data": {
      "text/plain": [
       "array([[<matplotlib.axes._subplots.AxesSubplot object at 0x000001D911C8C3D0>]],\n",
       "      dtype=object)"
      ]
     },
     "execution_count": 21,
     "metadata": {},
     "output_type": "execute_result"
    },
    {
     "data": {
      "image/png": "[encoded data removed]",
      "text/plain": [
       "<Figure size 432x288 with 1 Axes>"
      ]
     },
     "metadata": {
      "needs_background": "light"
     },
     "output_type": "display_data"
    }
   ],
   "source": [
    "davisville.hist(column = 'trip duration (minutes)', bins = 100, range=[0,45])"
   ]
  },
  {
   "cell_type": "code",
   "execution_count": 22,
   "metadata": {},
   "outputs": [
    {
     "data": {
      "text/html": [
       "<div>\n",
       "<style scoped>\n",
       "    .dataframe tbody tr th:only-of-type {\n",
       "        vertical-align: middle;\n",
       "    }\n",
       "\n",
       "    .dataframe tbody tr th {\n",
       "        vertical-align: top;\n",
       "    }\n",
       "\n",
       "    .dataframe thead th {\n",
       "        text-align: right;\n",
       "    }\n",
       "</style>\n",
       "<table border=\"1\" class=\"dataframe\">\n",
       "  <thead>\n",
       "    <tr style=\"text-align: right;\">\n",
       "      <th></th>\n",
       "      <th>trip duration (minutes)</th>\n",
       "    </tr>\n",
       "    <tr>\n",
       "      <th>membership</th>\n",
       "      <th></th>\n",
       "    </tr>\n",
       "  </thead>\n",
       "  <tbody>\n",
       "    <tr>\n",
       "      <th>0</th>\n",
       "      <td>41.95000</td>\n",
       "    </tr>\n",
       "    <tr>\n",
       "      <th>1</th>\n",
       "      <td>20.02806</td>\n",
       "    </tr>\n",
       "  </tbody>\n",
       "</table>\n",
       "</div>"
      ],
      "text/plain": [
       "            trip duration (minutes)\n",
       "membership                         \n",
       "0                          41.95000\n",
       "1                          20.02806"
      ]
     },
     "execution_count": 22,
     "metadata": {},
     "output_type": "execute_result"
    }
   ],
   "source": [
    "davisville.groupby('membership').mean()"
   ]
  },
  {
   "cell_type": "markdown",
   "metadata": {},
   "source": [
    "#### Membership-specific data\n",
    "\n",
    "Earlier, integer values were assigned to the two types of memberships a trip could be taken under. Now, that mapping of values will be used to assess some data relevant to specific membership cases. Firstly, new dataframes will house the trips made by Annual and Casual memberships. The data in those structures will then be used to find both the total duration of all trips made using the respective membership, and as well the mean duration of the trips. "
   ]
  },
  {
   "cell_type": "code",
   "execution_count": 23,
   "metadata": {},
   "outputs": [
    {
     "data": {
      "image/png": "[encoded data removed]",
      "text/plain": [
       "<Figure size 432x288 with 1 Axes>"
      ]
     },
     "metadata": {
      "needs_background": "light"
     },
     "output_type": "display_data"
    }
   ],
   "source": [
    "memberships = bikes['membership']\n",
    "proportion_of_memberships = memberships.plot(kind = 'hist')"
   ]
  },
  {
   "cell_type": "code",
   "execution_count": 24,
   "metadata": {},
   "outputs": [
    {
     "data": {
      "text/html": [
       "<div>\n",
       "<style scoped>\n",
       "    .dataframe tbody tr th:only-of-type {\n",
       "        vertical-align: middle;\n",
       "    }\n",
       "\n",
       "    .dataframe tbody tr th {\n",
       "        vertical-align: top;\n",
       "    }\n",
       "\n",
       "    .dataframe thead th {\n",
       "        text-align: right;\n",
       "    }\n",
       "</style>\n",
       "<table border=\"1\" class=\"dataframe\">\n",
       "  <thead>\n",
       "    <tr style=\"text-align: right;\">\n",
       "      <th></th>\n",
       "      <th>trip duration (minutes)</th>\n",
       "      <th>start time</th>\n",
       "      <th>departure station</th>\n",
       "      <th>arrival station</th>\n",
       "      <th>membership</th>\n",
       "    </tr>\n",
       "  </thead>\n",
       "  <tbody>\n",
       "    <tr>\n",
       "      <th>0</th>\n",
       "      <td>8.800000</td>\n",
       "      <td>7/1/2018 0:00</td>\n",
       "      <td>Borden St / Bloor St W - SMART</td>\n",
       "      <td>Macpherson Ave / Spadina Rd</td>\n",
       "      <td>1</td>\n",
       "    </tr>\n",
       "    <tr>\n",
       "      <th>1</th>\n",
       "      <td>9.500000</td>\n",
       "      <td>7/1/2018 0:00</td>\n",
       "      <td>Jarvis St / Isabella St</td>\n",
       "      <td>Queen St E / George St (Moss Park)</td>\n",
       "      <td>1</td>\n",
       "    </tr>\n",
       "    <tr>\n",
       "      <th>3</th>\n",
       "      <td>19.116667</td>\n",
       "      <td>7/1/2018 0:00</td>\n",
       "      <td>Baldwin Ave / Spadina Ave - SMART</td>\n",
       "      <td>Phoebe St / Spadina Ave</td>\n",
       "      <td>1</td>\n",
       "    </tr>\n",
       "    <tr>\n",
       "      <th>4</th>\n",
       "      <td>12.166667</td>\n",
       "      <td>7/1/2018 0:02</td>\n",
       "      <td>Dundas St W / Crawford St</td>\n",
       "      <td>Fort York  Blvd / Capreol Ct</td>\n",
       "      <td>1</td>\n",
       "    </tr>\n",
       "    <tr>\n",
       "      <th>6</th>\n",
       "      <td>10.200000</td>\n",
       "      <td>7/1/2018 0:03</td>\n",
       "      <td>Bloor GO / UP Station (West Toronto Railpath)</td>\n",
       "      <td>College St / Crawford St</td>\n",
       "      <td>1</td>\n",
       "    </tr>\n",
       "    <tr>\n",
       "      <th>...</th>\n",
       "      <td>...</td>\n",
       "      <td>...</td>\n",
       "      <td>...</td>\n",
       "      <td>...</td>\n",
       "      <td>...</td>\n",
       "    </tr>\n",
       "    <tr>\n",
       "      <th>822531</th>\n",
       "      <td>28.733333</td>\n",
       "      <td>9/30/2018 23:47</td>\n",
       "      <td>Ulster St / Bathurst St</td>\n",
       "      <td>Ulster St / Bathurst St</td>\n",
       "      <td>1</td>\n",
       "    </tr>\n",
       "    <tr>\n",
       "      <th>822532</th>\n",
       "      <td>27.200000</td>\n",
       "      <td>9/30/2018 23:49</td>\n",
       "      <td>Ulster St / Bathurst St</td>\n",
       "      <td>Ulster St / Bathurst St</td>\n",
       "      <td>1</td>\n",
       "    </tr>\n",
       "    <tr>\n",
       "      <th>822533</th>\n",
       "      <td>2.700000</td>\n",
       "      <td>9/30/2018 23:53</td>\n",
       "      <td>Jarvis St / Dundas St E</td>\n",
       "      <td>Dundas St W / Yonge St</td>\n",
       "      <td>1</td>\n",
       "    </tr>\n",
       "    <tr>\n",
       "      <th>822534</th>\n",
       "      <td>7.900000</td>\n",
       "      <td>9/30/2018 23:53</td>\n",
       "      <td>Macpherson Ave / Spadina Rd</td>\n",
       "      <td>Charles St W / Balmuto St - SMART</td>\n",
       "      <td>1</td>\n",
       "    </tr>\n",
       "    <tr>\n",
       "      <th>822535</th>\n",
       "      <td>8.333333</td>\n",
       "      <td>9/30/2018 23:54</td>\n",
       "      <td>Bathurst St / Dundas St W</td>\n",
       "      <td>Bloor St W / Manning Ave - SMART</td>\n",
       "      <td>1</td>\n",
       "    </tr>\n",
       "  </tbody>\n",
       "</table>\n",
       "<p>633394 rows × 5 columns</p>\n",
       "</div>"
      ],
      "text/plain": [
       "        trip duration (minutes)       start time  \\\n",
       "0                      8.800000    7/1/2018 0:00   \n",
       "1                      9.500000    7/1/2018 0:00   \n",
       "3                     19.116667    7/1/2018 0:00   \n",
       "4                     12.166667    7/1/2018 0:02   \n",
       "6                     10.200000    7/1/2018 0:03   \n",
       "...                         ...              ...   \n",
       "822531                28.733333  9/30/2018 23:47   \n",
       "822532                27.200000  9/30/2018 23:49   \n",
       "822533                 2.700000  9/30/2018 23:53   \n",
       "822534                 7.900000  9/30/2018 23:53   \n",
       "822535                 8.333333  9/30/2018 23:54   \n",
       "\n",
       "                                    departure station  \\\n",
       "0                      Borden St / Bloor St W - SMART   \n",
       "1                             Jarvis St / Isabella St   \n",
       "3                   Baldwin Ave / Spadina Ave - SMART   \n",
       "4                           Dundas St W / Crawford St   \n",
       "6       Bloor GO / UP Station (West Toronto Railpath)   \n",
       "...                                               ...   \n",
       "822531                        Ulster St / Bathurst St   \n",
       "822532                        Ulster St / Bathurst St   \n",
       "822533                        Jarvis St / Dundas St E   \n",
       "822534                    Macpherson Ave / Spadina Rd   \n",
       "822535                      Bathurst St / Dundas St W   \n",
       "\n",
       "                           arrival station  membership  \n",
       "0              Macpherson Ave / Spadina Rd           1  \n",
       "1       Queen St E / George St (Moss Park)           1  \n",
       "3                  Phoebe St / Spadina Ave           1  \n",
       "4             Fort York  Blvd / Capreol Ct           1  \n",
       "6                 College St / Crawford St           1  \n",
       "...                                    ...         ...  \n",
       "822531             Ulster St / Bathurst St           1  \n",
       "822532             Ulster St / Bathurst St           1  \n",
       "822533              Dundas St W / Yonge St           1  \n",
       "822534   Charles St W / Balmuto St - SMART           1  \n",
       "822535    Bloor St W / Manning Ave - SMART           1  \n",
       "\n",
       "[633394 rows x 5 columns]"
      ]
     },
     "execution_count": 24,
     "metadata": {},
     "output_type": "execute_result"
    }
   ],
   "source": [
    "annual = bikes[bikes.membership == 1]\n",
    "annual"
   ]
  },
  {
   "cell_type": "code",
   "execution_count": 25,
   "metadata": {},
   "outputs": [
    {
     "data": {
      "text/html": [
       "<div>\n",
       "<style scoped>\n",
       "    .dataframe tbody tr th:only-of-type {\n",
       "        vertical-align: middle;\n",
       "    }\n",
       "\n",
       "    .dataframe tbody tr th {\n",
       "        vertical-align: top;\n",
       "    }\n",
       "\n",
       "    .dataframe thead th {\n",
       "        text-align: right;\n",
       "    }\n",
       "</style>\n",
       "<table border=\"1\" class=\"dataframe\">\n",
       "  <thead>\n",
       "    <tr style=\"text-align: right;\">\n",
       "      <th></th>\n",
       "      <th>trip duration (minutes)</th>\n",
       "      <th>start time</th>\n",
       "      <th>departure station</th>\n",
       "      <th>arrival station</th>\n",
       "      <th>membership</th>\n",
       "    </tr>\n",
       "  </thead>\n",
       "  <tbody>\n",
       "    <tr>\n",
       "      <th>2</th>\n",
       "      <td>6.133333</td>\n",
       "      <td>7/1/2018 0:00</td>\n",
       "      <td>Gerrard St E / Broadview - SMART</td>\n",
       "      <td>Gerrard St E / Broadview - SMART</td>\n",
       "      <td>0</td>\n",
       "    </tr>\n",
       "    <tr>\n",
       "      <th>5</th>\n",
       "      <td>14.450000</td>\n",
       "      <td>7/1/2018 0:03</td>\n",
       "      <td>Front St W / University Ave (1)</td>\n",
       "      <td>Augusta Ave / Denison Sq</td>\n",
       "      <td>0</td>\n",
       "    </tr>\n",
       "    <tr>\n",
       "      <th>16</th>\n",
       "      <td>5.466667</td>\n",
       "      <td>7/1/2018 0:08</td>\n",
       "      <td>Spadina Ave / Adelaide St W</td>\n",
       "      <td>Widmer St / Adelaide St W</td>\n",
       "      <td>0</td>\n",
       "    </tr>\n",
       "    <tr>\n",
       "      <th>17</th>\n",
       "      <td>23.366667</td>\n",
       "      <td>7/1/2018 0:08</td>\n",
       "      <td>Madison Ave / Bloor St W</td>\n",
       "      <td>457 King St. W. at Spadina</td>\n",
       "      <td>0</td>\n",
       "    </tr>\n",
       "    <tr>\n",
       "      <th>18</th>\n",
       "      <td>22.416667</td>\n",
       "      <td>7/1/2018 0:08</td>\n",
       "      <td>Madison Ave / Bloor St W</td>\n",
       "      <td>457 King St. W. at Spadina</td>\n",
       "      <td>0</td>\n",
       "    </tr>\n",
       "    <tr>\n",
       "      <th>...</th>\n",
       "      <td>...</td>\n",
       "      <td>...</td>\n",
       "      <td>...</td>\n",
       "      <td>...</td>\n",
       "      <td>...</td>\n",
       "    </tr>\n",
       "    <tr>\n",
       "      <th>822506</th>\n",
       "      <td>18.616667</td>\n",
       "      <td>9/30/2018 22:45</td>\n",
       "      <td>Queens Quay W / Lower Simcoe St</td>\n",
       "      <td>Queens Quay W / Lower Simcoe St</td>\n",
       "      <td>0</td>\n",
       "    </tr>\n",
       "    <tr>\n",
       "      <th>822507</th>\n",
       "      <td>18.183333</td>\n",
       "      <td>9/30/2018 22:45</td>\n",
       "      <td>Queens Quay W / Lower Simcoe St</td>\n",
       "      <td>Queens Quay W / Lower Simcoe St</td>\n",
       "      <td>0</td>\n",
       "    </tr>\n",
       "    <tr>\n",
       "      <th>822517</th>\n",
       "      <td>24.416667</td>\n",
       "      <td>9/30/2018 23:10</td>\n",
       "      <td>The Royal Ontario Museum (Bloor St Entrance)</td>\n",
       "      <td>College St / Huron St</td>\n",
       "      <td>0</td>\n",
       "    </tr>\n",
       "    <tr>\n",
       "      <th>822523</th>\n",
       "      <td>5.166667</td>\n",
       "      <td>9/30/2018 23:26</td>\n",
       "      <td>Lower Jarvis St / The Esplanade</td>\n",
       "      <td>Cherry St / Mill St</td>\n",
       "      <td>0</td>\n",
       "    </tr>\n",
       "    <tr>\n",
       "      <th>822529</th>\n",
       "      <td>55.483333</td>\n",
       "      <td>9/30/2018 23:41</td>\n",
       "      <td>College St / Huron St</td>\n",
       "      <td>Church St / Alexander St</td>\n",
       "      <td>0</td>\n",
       "    </tr>\n",
       "  </tbody>\n",
       "</table>\n",
       "<p>189142 rows × 5 columns</p>\n",
       "</div>"
      ],
      "text/plain": [
       "        trip duration (minutes)       start time  \\\n",
       "2                      6.133333    7/1/2018 0:00   \n",
       "5                     14.450000    7/1/2018 0:03   \n",
       "16                     5.466667    7/1/2018 0:08   \n",
       "17                    23.366667    7/1/2018 0:08   \n",
       "18                    22.416667    7/1/2018 0:08   \n",
       "...                         ...              ...   \n",
       "822506                18.616667  9/30/2018 22:45   \n",
       "822507                18.183333  9/30/2018 22:45   \n",
       "822517                24.416667  9/30/2018 23:10   \n",
       "822523                 5.166667  9/30/2018 23:26   \n",
       "822529                55.483333  9/30/2018 23:41   \n",
       "\n",
       "                                   departure station  \\\n",
       "2                   Gerrard St E / Broadview - SMART   \n",
       "5                    Front St W / University Ave (1)   \n",
       "16                       Spadina Ave / Adelaide St W   \n",
       "17                          Madison Ave / Bloor St W   \n",
       "18                          Madison Ave / Bloor St W   \n",
       "...                                              ...   \n",
       "822506               Queens Quay W / Lower Simcoe St   \n",
       "822507               Queens Quay W / Lower Simcoe St   \n",
       "822517  The Royal Ontario Museum (Bloor St Entrance)   \n",
       "822523               Lower Jarvis St / The Esplanade   \n",
       "822529                         College St / Huron St   \n",
       "\n",
       "                         arrival station  membership  \n",
       "2       Gerrard St E / Broadview - SMART           0  \n",
       "5               Augusta Ave / Denison Sq           0  \n",
       "16             Widmer St / Adelaide St W           0  \n",
       "17            457 King St. W. at Spadina           0  \n",
       "18            457 King St. W. at Spadina           0  \n",
       "...                                  ...         ...  \n",
       "822506   Queens Quay W / Lower Simcoe St           0  \n",
       "822507   Queens Quay W / Lower Simcoe St           0  \n",
       "822517             College St / Huron St           0  \n",
       "822523               Cherry St / Mill St           0  \n",
       "822529          Church St / Alexander St           0  \n",
       "\n",
       "[189142 rows x 5 columns]"
      ]
     },
     "execution_count": 25,
     "metadata": {},
     "output_type": "execute_result"
    }
   ],
   "source": [
    "casual = bikes[bikes.membership == 0]\n",
    "casual"
   ]
  },
  {
   "cell_type": "code",
   "execution_count": 26,
   "metadata": {},
   "outputs": [],
   "source": [
    "hours_casual = casual['trip duration (minutes)'].sum()/60"
   ]
  },
  {
   "cell_type": "code",
   "execution_count": 27,
   "metadata": {
    "scrolled": true
   },
   "outputs": [],
   "source": [
    "hours_annual = annual['trip duration (minutes)'].sum()/60"
   ]
  },
  {
   "cell_type": "code",
   "execution_count": 28,
   "metadata": {},
   "outputs": [
    {
     "data": {
      "text/html": [
       "<div>\n",
       "<style scoped>\n",
       "    .dataframe tbody tr th:only-of-type {\n",
       "        vertical-align: middle;\n",
       "    }\n",
       "\n",
       "    .dataframe tbody tr th {\n",
       "        vertical-align: top;\n",
       "    }\n",
       "\n",
       "    .dataframe thead th {\n",
       "        text-align: right;\n",
       "    }\n",
       "</style>\n",
       "<table border=\"1\" class=\"dataframe\">\n",
       "  <thead>\n",
       "    <tr style=\"text-align: right;\">\n",
       "      <th></th>\n",
       "      <th>trip duration (minutes)</th>\n",
       "    </tr>\n",
       "    <tr>\n",
       "      <th>membership</th>\n",
       "      <th></th>\n",
       "    </tr>\n",
       "  </thead>\n",
       "  <tbody>\n",
       "    <tr>\n",
       "      <th>0</th>\n",
       "      <td>31.835512</td>\n",
       "    </tr>\n",
       "    <tr>\n",
       "      <th>1</th>\n",
       "      <td>13.123103</td>\n",
       "    </tr>\n",
       "  </tbody>\n",
       "</table>\n",
       "</div>"
      ],
      "text/plain": [
       "            trip duration (minutes)\n",
       "membership                         \n",
       "0                         31.835512\n",
       "1                         13.123103"
      ]
     },
     "execution_count": 28,
     "metadata": {},
     "output_type": "execute_result"
    }
   ],
   "source": [
    "bikes.groupby('membership').mean()"
   ]
  },
  {
   "cell_type": "markdown",
   "metadata": {},
   "source": [
    "# Discussion\n",
    "\n",
    "With the data concerning membership and trip duration, now some inferences can be made regarding the usage of the Bike Share Toronto system."
   ]
  },
  {
   "cell_type": "markdown",
   "metadata": {},
   "source": [
    "#### Membership\n",
    "\n",
    "As previously touched-upon, there are two memberships that can be obtained by users to grant access to the Bike Share infrastructure. In Q3 of 2018, **633394** trips were made by users who had Annual memberships, while **189142** were made by users with Casual memberships. "
   ]
  },
  {
   "cell_type": "code",
   "execution_count": 29,
   "metadata": {},
   "outputs": [
    {
     "data": {
      "image/png": "[encoded data removed]",
      "text/plain": [
       "<Figure size 432x288 with 1 Axes>"
      ]
     },
     "metadata": {
      "needs_background": "light"
     },
     "output_type": "display_data"
    }
   ],
   "source": [
    "memberships = bikes['membership']\n",
    "proportion_of_memberships = memberships.plot(kind = 'hist')"
   ]
  },
  {
   "cell_type": "markdown",
   "metadata": {},
   "source": [
    "In the above visualization, one can note the disparity of the number of trips made by each class of membership (Casual memberships are represented by the left bar, while Annual memberships are represented by that on the right.)\n",
    "\n",
    "Clearly, the majority of trips made using Bike Share Toronto are made by users who bought an Annual membership, which, given the nature of the memberships, stands to reason. If a person believes that they will use Bike Share infrastructure on even a semi-regular basis, the annual membership offers good value, costing 32 cents per day [3]. This cost makes it possible to use Bike Share as a regular means of transport, much like a car, especially in a dense community like Toronto, where one would not have to ride for long before accessing many amenities or secondary transit nodes. "
   ]
  },
  {
   "cell_type": "code",
   "execution_count": 30,
   "metadata": {},
   "outputs": [
    {
     "name": "stdout",
     "output_type": "stream",
     "text": [
      "Number of hours ridden with casual membership:  100357.20583333333 \n",
      "Number of hours ridden with annual membership:  138534.91694444444\n"
     ]
    }
   ],
   "source": [
    "print('Number of hours ridden with casual membership: ',hours_casual, '\\nNumber of hours ridden with annual membership: ', hours_annual)"
   ]
  },
  {
   "cell_type": "markdown",
   "metadata": {},
   "source": [
    "Unsurprisingly, the total number of hours that bikes were used with an Annual membership was also higher than the time where Casual memberships were used. If users have Annual memberships, a good assumption to make would be that they would make more trips using the Bike Share system than those who purchase Casual memberships, and the sum of the duration of all trips would be greater for the Annual membership class."
   ]
  },
  {
   "cell_type": "code",
   "execution_count": 31,
   "metadata": {},
   "outputs": [
    {
     "data": {
      "text/html": [
       "<div>\n",
       "<style scoped>\n",
       "    .dataframe tbody tr th:only-of-type {\n",
       "        vertical-align: middle;\n",
       "    }\n",
       "\n",
       "    .dataframe tbody tr th {\n",
       "        vertical-align: top;\n",
       "    }\n",
       "\n",
       "    .dataframe thead th {\n",
       "        text-align: right;\n",
       "    }\n",
       "</style>\n",
       "<table border=\"1\" class=\"dataframe\">\n",
       "  <thead>\n",
       "    <tr style=\"text-align: right;\">\n",
       "      <th></th>\n",
       "      <th>trip duration (minutes)</th>\n",
       "    </tr>\n",
       "    <tr>\n",
       "      <th>membership</th>\n",
       "      <th></th>\n",
       "    </tr>\n",
       "  </thead>\n",
       "  <tbody>\n",
       "    <tr>\n",
       "      <th>0</th>\n",
       "      <td>31.835512</td>\n",
       "    </tr>\n",
       "    <tr>\n",
       "      <th>1</th>\n",
       "      <td>13.123103</td>\n",
       "    </tr>\n",
       "  </tbody>\n",
       "</table>\n",
       "</div>"
      ],
      "text/plain": [
       "            trip duration (minutes)\n",
       "membership                         \n",
       "0                         31.835512\n",
       "1                         13.123103"
      ]
     },
     "execution_count": 31,
     "metadata": {},
     "output_type": "execute_result"
    }
   ],
   "source": [
    "bikes.groupby('membership').mean()"
   ]
  },
  {
   "cell_type": "markdown",
   "metadata": {},
   "source": [
    "However, an interesting feature of the data is revealed when the mean trip duration for each membership class is computed. While trips made using the Annual membership were on average ~13 minutes long, trips made with Casual memberships were ~31 minutes long on average. This means that trips made by people with Casual memberships are over twice as long on average as those with Annual memberships. Why does this difference exist? It would be useful to understand the specific usage of the Bike Share system in certain areas to explain why."
   ]
  },
  {
   "cell_type": "code",
   "execution_count": 32,
   "metadata": {},
   "outputs": [
    {
     "data": {
      "text/plain": [
       "array([[<matplotlib.axes._subplots.AxesSubplot object at 0x000001D912167E80>]],\n",
       "      dtype=object)"
      ]
     },
     "execution_count": 32,
     "metadata": {},
     "output_type": "execute_result"
    },
    {
     "data": {
      "image/png": "[encoded data removed]",
      "text/plain": [
       "<Figure size 432x288 with 1 Axes>"
      ]
     },
     "metadata": {
      "needs_background": "light"
     },
     "output_type": "display_data"
    }
   ],
   "source": [
    "bikes.hist(column = 'trip duration (minutes)', bins = 100, range=[0,45])"
   ]
  },
  {
   "cell_type": "code",
   "execution_count": 33,
   "metadata": {},
   "outputs": [
    {
     "data": {
      "text/plain": [
       "1    77.005019\n",
       "0    22.994981\n",
       "Name: membership, dtype: float64"
      ]
     },
     "execution_count": 33,
     "metadata": {},
     "output_type": "execute_result"
    }
   ],
   "source": [
    "bikes['membership'].value_counts(normalize=True)*100"
   ]
  },
  {
   "cell_type": "markdown",
   "metadata": {},
   "source": [
    "As can be seen with the above data visualization, the data of all trip durations made in Q3 follows a right-skewed distribution, with the right tail concentrating up to the duration of around 9 minutes, with the number of trips with greater durations decreasing subsequently. This histogram is indicative that the general usage of the Bike Share system is for short trips, which is in line with what the stated purpose of the company is. Further, it is important to note that with **77%** of all trips being made by Annual memberships, the distribution is skewed towards that mean trip duration."
   ]
  },
  {
   "cell_type": "markdown",
   "metadata": {},
   "source": [
    "#### Trip duration\n",
    "\n",
    "While it has been shown that, on average, the use of an Annual membership correlates with a lower trip duration than with a Casual membership, is this the case in every area where the Bike Share network exists?\n",
    "\n",
    "The Bike Share Toronto system covers the entirety of the city east of the Humber River, south of Highway 401, and west of the Don River (though in recent years the system has grown to far exceed these boundaries, in particular moving as far east as Scarborough). A question arises - how does the usage of Bike Share vary based on geographic factors?"
   ]
  },
  {
   "cell_type": "code",
   "execution_count": 34,
   "metadata": {},
   "outputs": [
    {
     "data": {
      "text/plain": [
       "array([[<matplotlib.axes._subplots.AxesSubplot object at 0x000001D9119E9FA0>]],\n",
       "      dtype=object)"
      ]
     },
     "execution_count": 34,
     "metadata": {},
     "output_type": "execute_result"
    },
    {
     "data": {
      "image/png": "[encoded data removed]",
      "text/plain": [
       "<Figure size 432x288 with 1 Axes>"
      ]
     },
     "metadata": {
      "needs_background": "light"
     },
     "output_type": "display_data"
    }
   ],
   "source": [
    " jarvis.hist(column = 'trip duration (minutes)', bins = 100, range=[0,45])"
   ]
  },
  {
   "cell_type": "markdown",
   "metadata": {},
   "source": [
    "##### Jarvis\n",
    "\n",
    "The Jarvis neighborhood lies approximately 1km east of Queen's Park in downtown Toronto, and is a dense urban area with most residences existing in mid- and high-rise blocks. In Q3 of 2018, **21939** trips were made from stations in the Jarvis area. Of those trips, **79.9%** were made with Annual memberships, while the remainder were made by Casual memberships. The distribution of the trip durations generally follows that of the data set as a whole. \n",
    "\n",
    "This data makes sense, as the population and business density of the Jarvis neighborhood permits most daily activities, like connecting to public transit and accessing businesses, to be made in short trips. Indeed, the mean Annual membership trip duration was 12.1 minutes, where the Casual trip duration mean was 28.8 minutes, roughly in line with the means seen in the master data."
   ]
  },
  {
   "cell_type": "code",
   "execution_count": 35,
   "metadata": {},
   "outputs": [
    {
     "data": {
      "text/plain": [
       "array([[<matplotlib.axes._subplots.AxesSubplot object at 0x000001D919C07A00>]],\n",
       "      dtype=object)"
      ]
     },
     "execution_count": 35,
     "metadata": {},
     "output_type": "execute_result"
    },
    {
     "data": {
      "image/png": "[encoded data removed]",
      "text/plain": [
       "<Figure size 432x288 with 1 Axes>"
      ]
     },
     "metadata": {
      "needs_background": "light"
     },
     "output_type": "display_data"
    }
   ],
   "source": [
    "quay.hist(column = 'trip duration (minutes)', bins = 100, range=[0,45])"
   ]
  },
  {
   "cell_type": "markdown",
   "metadata": {},
   "source": [
    "##### Queens Quay\n",
    "\n",
    "The Queens Quay neighborhood, also known as the Waterfront, sits on the shoreline of Lake Ontario, and is a very dense urban area characterized by it's large number of very high-rise buildings. In Q3, **65069** trips were made from stations in the Queens Quay area, which is very popular with tourists and often is the site of major public events. This popularity is reflected in the fact that only **54.6%** of trips made originating in this area were made by Annual membership holders. The larger proportion of Casual membership use, **45.4%**, suggests a greater proportion of trips were made by users who did not intend to use the Bike Share network over a long term, such as users from outside the city. As well, the mean trip duration for Casual use was 42 minutes, indicating that Casual users favoured longer trips, covering a greater distance, where Annual membership use remained lower, at ~18 minutes."
   ]
  },
  {
   "cell_type": "code",
   "execution_count": 36,
   "metadata": {},
   "outputs": [
    {
     "data": {
      "text/plain": [
       "array([[<matplotlib.axes._subplots.AxesSubplot object at 0x000001D912230940>]],\n",
       "      dtype=object)"
      ]
     },
     "execution_count": 36,
     "metadata": {},
     "output_type": "execute_result"
    },
    {
     "data": {
      "image/png": "[encoded data removed]",
      "text/plain": [
       "<Figure size 432x288 with 1 Axes>"
      ]
     },
     "metadata": {
      "needs_background": "light"
     },
     "output_type": "display_data"
    }
   ],
   "source": [
    "harrison.hist(column = 'trip duration (minutes)', bins = 100, range=[0,45])"
   ]
  },
  {
   "cell_type": "markdown",
   "metadata": {},
   "source": [
    "##### Harrison\n",
    "\n",
    "Located 0.6km northwest of Trinity Bellwoods Park, Harrison is a medium density neighborhood, made up mostly by single family residences and low-rise buildings. **2035** trips originating in Harrison were made in Q3 of 2018, with **85.6%** of trips being made by users with Annual memberships, lasting for a mean duration of 15.3 minutes. The high proportion of trips made by Annual memberships is reflected in the distribution, which more closely follows a normal pattern as opposed to the right-skewed distributions of data from Queens Quay and Jarvis."
   ]
  },
  {
   "cell_type": "code",
   "execution_count": 37,
   "metadata": {},
   "outputs": [
    {
     "data": {
      "text/plain": [
       "array([[<matplotlib.axes._subplots.AxesSubplot object at 0x000001D91BCC77F0>]],\n",
       "      dtype=object)"
      ]
     },
     "execution_count": 37,
     "metadata": {},
     "output_type": "execute_result"
    },
    {
     "data": {
      "image/png": "[encoded data removed]",
      "text/plain": [
       "<Figure size 432x288 with 1 Axes>"
      ]
     },
     "metadata": {
      "needs_background": "light"
     },
     "output_type": "display_data"
    }
   ],
   "source": [
    "davisville.hist(column = 'trip duration (minutes)', bins = 100, range=[0,45])"
   ]
  },
  {
   "cell_type": "markdown",
   "metadata": {},
   "source": [
    "##### Davisville \n",
    "\n",
    "Davisville is a low density neighborhood located in the east end of York, made up mostly of detached single family residences. In Q3, **328** trips originated in Davisville, **78%** of which were made by Annual membership users. The trip duration distribution did not closely follow a normal nor right-skewed distribution, and the mean trip durations were 20 minutes and 42 minutes for Annual and Casual users respectively. Interestingly, both classes of users made trips that lasted well above the global mean trip durations."
   ]
  },
  {
   "cell_type": "markdown",
   "metadata": {},
   "source": [
    "### Factors impacting usage\n",
    "\n",
    "As seen above, the usage of the Bike Share system varies considerably relative to the geography of the assessed area. In areas which have a high population density, such as Jarvis, more trips are made, and trips are generally shorter. In areas such as Queens Quay, where there are many attractions to users who may be arriving from outside the city, the proportion of trips made with Casual memberships is considerably higher than those areas which are primarily residential, where the overwhelming majority of trips are made by users with Annual memberships. \n",
    "\n",
    "###### Low density areas\n",
    "\n",
    "In general, areas with a lower population density, such as Harrison and Davisville, see fewer trips originating from them than areas with high population density. As well, low density areas tend to have trips which are longer overall, mostly made by users with Annual memberships. The possible inverse relationship between population density and trip length may be explained by the fact that, unlike in high density areas closer to the downtown core, businesses and transit links are generally further-removed from residential areas, requiring longer rides to access them. As well, the lower-density nature of these communities is more hostile to cycling, as trips are inherently longer, and most routes for cycling take place on roads without dedicated bike lanes. \n",
    "\n",
    "As such, fewer trips are to be expected, as more users would not be willing to use the Bike Share network where there are fewer stations to access, the road infrastructure is more hostile, and distances to access amenities are longer. However, those users who do use the network would ride for longer durations, skewing the data towards longer durations than downtown areas, where trips can be shorter.\n",
    "\n",
    "###### High density areas\n",
    "\n",
    "Conversely, in downtown areas where the overall density of population and businesses are greater, a cyclist would not have to ride for as long a duration to access common destinations as their counterparts in the northern areas would. Furthermore, a greater density of stations allows for less rigourously-planned trips to be made, as essentially every street intersection will have a Bike Share station where a bike can be parked. \n",
    "\n",
    "In this regard, the environment is more conducive to the regular use of the Bike Share network, as more streets have protected bike lanes and trips can be shorter in duration. Indeed, the data shows that trip durations for Annual membership holders are closely-aligned to the global mean of ~13 minutes. Ergo, it can be inferred that there exists a positive correlation between population density and the number of trips made, but equally there exists a negative correlation between population density and trip duration. \n",
    "\n",
    "In short, this can possibly be explained by the factor of the hostility (or lack thereof) of the environment of an area in which the Bike Share system operates. In the outlying areas of Toronto, communities are not as well-designed for cycling as a means of transport, where distances between residences and amenities are longer, and the actual design of streets are not optimized for the cooperation of bikes and cars, meaning that fewer trips will be made with Bike Share, and those trips that are made will be longer. \n",
    "\n",
    "Conversely, in the downtown, where amenities are often very close to residences, and where the prevalence of wide sidewalks and protected bike lanes (even dedicated roads specifically for bicycles, in the case of the Queens Quay area) create a positive environment for cyclists, encouraging more and more efficient use of the Bike Share system.\n",
    "\n",
    "###### Casual membership cases\n",
    "\n",
    "One interesting feature of the dataset lies in the fact that, across all data sets, the proportion of trips made by Casual memberships was lower than that of Annual memberships, yet the mean trip duration of Casual trips is significantly higher than that of Annual membership trips. Indeed, in areas such as Queens Quay, the difference between the two mean times is considerable. One possible explanation for the positive correlation between Casual membership and trip duration lies in the notion of the novelty factor of the Bike Share system. \n",
    "\n",
    "In areas where people are likely to travel within Toronto, particularly the downtown, the positive environment for cycling means that the Bike Share system is actually less expensive to use over short durations than other methods of transport, such as use of the TTC system (a Presto pass for 24 hours is twice as expensive as a 24h Casual membership with Bike Share Toronto [4]). Ergo, it is more economical to use the Bike Share system, and for users who may want to get to a more varied set of destinations than Annual users, trip durations will naturally be longer. \n",
    "\n",
    "As such, a possible explanation for the longer mean duration of trips made by Casual membership holders is that the users want to travel to a larger set of destinations than Annual users who travel to a smaller set of destinations more often, requiring riding for a longer time. This argument is supported by the fact that, though Casual trips are longer on average, the total number of hours ridden by Casual membership users is still considerably lower than that ridden by Annual users. The shorter trips occur much more often, and as such still consitute the majority of usage of the Bike Share Toronto system. "
   ]
  },
  {
   "cell_type": "markdown",
   "metadata": {},
   "source": [
    "### Conclusions\n",
    "\n",
    "In the course of analysing the usage data concerning Bike Share Toronto, some rather intuitive patterns have emerged. Modelling of the data has shown that, for users who use the system over the long term, there exists a proportionate relationship between the general density of an area and the number of trips originating in it. Furthermore, the data analysis has revealed that there is an inversely proportionate relationship between the density of an area and the mean duration of trips originating in it.\n",
    "\n",
    "Regarding the class of users who use the system over short terms of 1-3 days, mean trip durations are universally higher in every sample area compared to trips made by Annual membership holders. As well, the density of an area proportionally correlates to the number of trips made by Casual membership holders.\n",
    "\n",
    "Again, while the results of the analysis may be reasonably intuitive, it is worth considering the underlying factors which contribute to the nature of the usage of Bike Share Toronto, such as the environmental impact on whether or not people use the service. By understanding how various factors impact the system, it can be better optimized to maximize convenience, efficiency, and usership."
   ]
  },
  {
   "cell_type": "markdown",
   "metadata": {},
   "source": [
    "## References\n",
    "\n",
    "[1] “Discover our 625 stations - system map,” Bike Share Toronto, 02-Sep-2022. [Online]. Available: https://bikesharetoronto.com/system-map/. [Accessed: 26-Nov-2022]. \n",
    "\n",
    "[2] “Get a pass and ride - pricing details,” Bike Share Toronto, 11-Aug-2022. [Online]. Available: https://bikesharetoronto.com/pricing/. [Accessed: 26-Nov-2022]. \n",
    "\n",
    "[3] Toronto Parking Authority, “Bike Share Toronto Ridership Data.” Toronto, 04-Nov-2022. \n",
    "\n",
    "\n",
    "[4] “Fares-and-passes,” TTC.ca. [Online]. Available: https://www.ttc.ca/Fares-and-passes. [Accessed: 26-Nov-2022]. \n"
   ]
  }
 ],
 "metadata": {
  "kernelspec": {
   "display_name": "Python 3",
   "language": "python",
   "name": "python3"
  },
  "language_info": {
   "codemirror_mode": {
    "name": "ipython",
    "version": 3
   },
   "file_extension": ".py",
   "mimetype": "text/x-python",
   "name": "python",
   "nbconvert_exporter": "python",
   "pygments_lexer": "ipython3",
   "version": "3.8.3"
  }
 },
 "nbformat": 4,
 "nbformat_minor": 4
}
